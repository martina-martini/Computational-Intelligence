{
  "nbformat": 4,
  "nbformat_minor": 0,
  "metadata": {
    "colab": {
      "provenance": []
    },
    "kernelspec": {
      "name": "python3",
      "display_name": "Python 3"
    },
    "language_info": {
      "name": "python"
    }
  },
  "cells": [
    {
      "cell_type": "markdown",
      "source": [
        "# LAB 9"
      ],
      "metadata": {
        "id": "YM_mdJPHMDmc"
      }
    },
    {
      "cell_type": "markdown",
      "source": [
        "Write a local-search algorithm (eg. an EA) able to solve the Problem instances 1, 2, 5, and 10 on a 1000-loci genomes, using a minimum number of fitness calls. That's all."
      ],
      "metadata": {
        "id": "K4bbH5rrO8Me"
      }
    },
    {
      "cell_type": "code",
      "source": [
        "from abc import abstractmethod\n",
        "\n",
        "\n",
        "class AbstractProblem:\n",
        "    def __init__(self):\n",
        "        self._calls = 0\n",
        "\n",
        "    @property\n",
        "    @abstractmethod\n",
        "    def x(self):\n",
        "        pass\n",
        "\n",
        "    @property\n",
        "    def calls(self):\n",
        "        return self._calls\n",
        "\n",
        "    @staticmethod\n",
        "    def onemax(genome):\n",
        "        return sum(bool(g) for g in genome)\n",
        "\n",
        "    def __call__(self, genome):\n",
        "        self._calls += 1\n",
        "        fitnesses = sorted((AbstractProblem.onemax(genome[s :: self.x]) for s in range(self.x)), reverse=True)\n",
        "        val = sum(f for f in fitnesses if f == fitnesses[0]) - sum(\n",
        "            f * (0.1 ** (k + 1)) for k, f in enumerate(f for f in fitnesses if f < fitnesses[0])\n",
        "        )\n",
        "        return val / len(genome)\n",
        "\n",
        "\n",
        "def make_problem(a):\n",
        "    class Problem(AbstractProblem):\n",
        "        @property\n",
        "        @abstractmethod\n",
        "        def x(self):\n",
        "            return a\n",
        "\n",
        "    return Problem()"
      ],
      "metadata": {
        "id": "T3-uPtL6OiLm"
      },
      "execution_count": 16,
      "outputs": []
    },
    {
      "cell_type": "code",
      "source": [
        "from random import choices\n",
        "\n",
        "fitness = make_problem(10)\n",
        "for n in range(10):\n",
        "    ind = choices([0, 1], k=50)\n",
        "    print(f\"{''.join(str(g) for g in ind)}: {fitness(ind):.2%}\")\n",
        "\n",
        "print(fitness.calls)"
      ],
      "metadata": {
        "colab": {
          "base_uri": "https://localhost:8080/"
        },
        "id": "Dc1oVX8mOg6h",
        "outputId": "a096fc17-d94d-44d2-f543-b94c4cdb4a8d"
      },
      "execution_count": 17,
      "outputs": [
        {
          "output_type": "stream",
          "name": "stdout",
          "text": [
            "10110101101001011111110011100000010000101111110011: 31.56%\n",
            "11000101100010011101101110100010010011100111111101: 15.33%\n",
            "00100101100110111100001101110101000010000110001000: 15.33%\n",
            "10011011110010001010001011010010110110100111100010: 15.33%\n",
            "11001111011110101101010010010110110011011011001101: 19.11%\n",
            "00100011101111010111011110000001000101011000001001: 23.56%\n",
            "01100110000100110011100101110100010111111001010011: 9.13%\n",
            "10010000000101011110101110010111001100101111010011: 15.33%\n",
            "01101110001111111110100111010110010011000000010110: 15.33%\n",
            "11001000111010011000010010000100011010001101100011: 7.33%\n",
            "10\n"
          ]
        }
      ]
    },
    {
      "cell_type": "markdown",
      "source": [
        "## Set of useful functions\n",
        "They are used later on for the creation of the problem, the initialization of the population and consequently for the implementation of the evoluitonary algorithm. Note that different approaches would be used, in order to try different combinations of parameters."
      ],
      "metadata": {
        "id": "qZlnLccdO-sv"
      }
    },
    {
      "cell_type": "code",
      "source": [
        "import numpy as np\n",
        "import random\n",
        "def create_problem_instance(number):\n",
        "  return make_problem(number)\n",
        "\n",
        "def initialize_genomes_population(genome_size, population_size):\n",
        "  return [choices([0, 1], k=population_size) for _ in range(genome_size)]\n",
        "\n",
        "def selection1(population, fitness):\n",
        "    zipped = list(zip(population, fitness))\n",
        "    sorted_population = sorted(zipped, key=lambda x: x[1], reverse=True)\n",
        "    return [x[0] for x in sorted_population[:len(population)//2]]\n",
        "\n",
        "def  selection2(population, fitness,  size):\n",
        "    sorted_population = sorted(zip(population, fitness), key=lambda x: x[1], reverse=True)\n",
        "    return [genome for genome, _ in sorted_population[: size]]\n",
        "\n",
        "def tournament_selection(population, fitnesses, tournament_size):\n",
        "    selected = []\n",
        "    for _ in range(2):\n",
        "        tournament_indices = np.random.choice(len(population), tournament_size, replace=False)\n",
        "        tournament = [(population[i], fitnesses[i]) for i in tournament_indices]\n",
        "        selected.append(max(tournament, key=lambda x: x[1])[0])\n",
        "    return selected\n",
        "\n",
        "def select_best_individual(population, fitness_scores):\n",
        "  best_individual = population[fitness_scores.index(max(fitness_scores))]\n",
        "  return best_individual\n",
        "\n",
        "def crossover(genome1, genome2): # 2 children\n",
        "    crossover_point1 = np.random.randint(0, len(genome1))\n",
        "\n",
        "    child1_genome = (np.concatenate((genome1[:crossover_point1], genome2[crossover_point1:])))\n",
        "    child2_genome = (np.concatenate((genome2[:crossover_point1], genome1[crossover_point1:])))\n",
        "\n",
        "    return child1_genome, child2_genome\n",
        "\n",
        "def crossover_one_child(genome1, genome2, crossover_rate):\n",
        "    if random.random() < crossover_rate:\n",
        "        point = random.uniform(0, 1)\n",
        "        crossover_point = int(point * len(genome1))\n",
        "        child = genome1[:crossover_point] + genome2[crossover_point:]\n",
        "        return child\n",
        "    else:\n",
        "        return genome1\n",
        "\n",
        "def one_cut_crossover(genome1, genome2):\n",
        "    crossover_point = random.randint(0,len(genome1)-1)\n",
        "    child = genome1[:crossover_point] + genome2[crossover_point:]\n",
        "    return child\n",
        "\n",
        "\n",
        "def mutate(genome, mutation_rate):\n",
        "    for i in range(len(genome)):\n",
        "        if random.random() < mutation_rate:\n",
        "            genome[i] = 1 - genome[i]\n",
        "    return genome\n",
        "\n",
        "def reproduce(selected):\n",
        "    new_population = []\n",
        "    # if len(selected) // SELECTION_FACTOR > 1:\n",
        "    #   top_percent = selected[:int(len(selected)//SELECTION_FACTOR)]\n",
        "    # else:\n",
        "    #   top_percent = selected\n",
        "    top_percent = selected[:len(selected)//SELECTION_FACTOR]\n",
        "    while len(new_population)  < len(selected):\n",
        "      parent1 = random.choice(top_percent)\n",
        "      parent2 = random.choice(top_percent)\n",
        "      if random.random() < MUTATION_RATE:\n",
        "          genome1 = mutate(parent1, MUTATION_RATE)\n",
        "          genome2 = mutate(parent2, MUTATION_RATE)\n",
        "          new_population.append([genome1])\n",
        "          new_population.append([genome2])\n",
        "\n",
        "      elif random.random()> MUTATION_RATE and random.random() < MUTATION_AND_CROSSOVER_RATE:\n",
        "          genome1 = mutate(parent1, MUTATION_RATE)\n",
        "          genome2 = mutate(parent2, MUTATION_RATE)\n",
        "          child1, child2 = crossover(genome1 , genome2)\n",
        "          new_population.append([child1])\n",
        "          new_population.append([child2])\n",
        "\n",
        "      elif random.random() > MUTATION_AND_CROSSOVER_RATE:\n",
        "            child1, child2 = crossover(parent1 , parent2)\n",
        "            new_population.append([child1])\n",
        "            new_population.append([child2])\n",
        "    return new_population\n",
        "\n",
        "def replacement(population, new_population, fitness_scores):\n",
        "     half = selection1(population, fitness_scores)\n",
        "\n",
        "     res = half + new_population\n",
        "     return res\n",
        "\n"
      ],
      "metadata": {
        "id": "nfUjcSpEMExn"
      },
      "execution_count": 18,
      "outputs": []
    },
    {
      "cell_type": "markdown",
      "source": [
        "## Definition of the parameters and algorithm implementation\n"
      ],
      "metadata": {
        "id": "gml181zORB-P"
      }
    },
    {
      "cell_type": "markdown",
      "source": [
        "Basically, the algorithm tries different approaches to evaluate also which is the best for each problem instance. Here the pseudocode of all the considered options (one generation):\n",
        "\n"
      ],
      "metadata": {
        "id": "FV1qDFtW2Q0W"
      }
    },
    {
      "cell_type": "markdown",
      "source": [
        "### option 1\n",
        "```\n",
        "select the best individuals of size TOURNAMENT SIZE from the population with the function ' selection2'\n",
        "select 2 parents from the best individuals with function 'tournament_selection'\n",
        "if a random number is < xover rate:\n",
        "    generate 1 child with 'crossover_one_child' function\n",
        "if a random number is < mutation rate:\n",
        "    apply the 'mutate' function to this child\n",
        "now the new population is composed of the best individuals + the child\n",
        "```\n",
        "\n"
      ],
      "metadata": {
        "id": "CH9Bz8wP3vh-"
      }
    },
    {
      "cell_type": "markdown",
      "source": [
        "### option 2\n",
        "\n",
        "```\n",
        "select the half of the population ordere by fitness with the function 'selection1'\n",
        "select a certain percentage of individuals from this half\n",
        "select 2 parents from this percentage\n",
        "(start of 'reproduce' function -->) generate a random number\n",
        "if this random number < xover rate:\n",
        "    apply 'crossover' function to produce 2 children\n",
        "elif this random number is < mutation and xover rate:\n",
        "    apply both the xover and the mutation to produce 2 children\n",
        "else\n",
        "    apply just the 'mutate' function to produce 1 child\n",
        "(start of 'replacement' function -->) the new population is composed of the selected individuals + the generated children\n",
        "```"
      ],
      "metadata": {
        "id": "8_lwO8V65hzf"
      }
    },
    {
      "cell_type": "markdown",
      "source": [
        "### option 3\n",
        "\n",
        "```\n",
        "selecte the best indidivuals with the function ' selection2'\n",
        "select 2 parents from this elite with 'tournament_selection'\n",
        "apply one_cut_crossover to produce 1 child\n",
        "if a random number is < mutation rate:\n",
        "    apply also the 'mutate' function to this child\n",
        "the new population is composed of the elite + 1 child\n",
        "```\n",
        "\n"
      ],
      "metadata": {
        "id": "nhs1pnio7UKF"
      }
    },
    {
      "cell_type": "markdown",
      "source": [
        "### option 4\n",
        "\n",
        "```\n",
        "select the best individuals with the function ' selection2'\n",
        "select the parents with 'tournament_selection'\n",
        "if a random number is < xover rate:\n",
        "    apply 'one_cut_crossover' function\n",
        "    apply also the 'mutate' function\n",
        "else\n",
        "    do nothing\n",
        "the new population is composed of the elite + (eventually) 1 child\n",
        "```\n",
        "\n"
      ],
      "metadata": {
        "id": "nCAr0Spz8GNe"
      }
    },
    {
      "cell_type": "markdown",
      "source": [
        "Further options can be explored and evalutated."
      ],
      "metadata": {
        "id": "dhkOBcUC8o9p"
      }
    },
    {
      "cell_type": "code",
      "source": [
        "# Parameters\n",
        "GENOME_LENGTH = 1000\n",
        "MUTATION_AND_CROSSOVER_RATE = 0.25\n",
        "SELECTION_FACTOR = 5 # -> in order to take the 20% of the population ordered by fitness\n",
        "\n",
        "\n",
        "\n",
        "# Parameter ranges\n",
        "problem_instances = [1, 2, 5, 10]\n",
        "max_generations = [10, 50, 100]\n",
        "population_sizes = [50, 100, 200]\n",
        "crossover_rates = [0.5, 0.7, 0.9]\n",
        "tournament_sizes = [3, 5, 7, 10, 49]\n",
        "mutation_rates = [0.001, 0.1, 0.1, 0.15]\n",
        "offspring_sizes = [20, 50, 100, 200]\n",
        "\n",
        "# Random choices of the parameters at the starting of the algorithm\n",
        "MUTATION_RATE = random.choice(mutation_rates)\n",
        "CROSSOVER_RATE = random.choice(crossover_rates)\n",
        "POPULATION_SIZE = random.choice(population_sizes)\n",
        "TOURNAMENT_SIZE = random.choice(tournament_sizes)\n",
        "MAX_GENERATIONS = random.choice(max_generations)\n",
        "OFFSPRING_SIZE = random.choice(offspring_sizes)\n",
        "\n",
        "print('Parameters for this run:')\n",
        "print(f'mutation rate={MUTATION_RATE}, crossover rate={CROSSOVER_RATE}, population size={POPULATION_SIZE}, tournament size={TOURNAMENT_SIZE}, max number of generations={MAX_GENERATIONS}, offspring size={OFFSPRING_SIZE}')\n",
        "\n",
        "# Start of the algorithm\n",
        "\n",
        "for problem_instance_number in problem_instances:\n",
        "  highest_fitness_per_instance = {}\n",
        "  highest_fitness_per_instance[problem_instance_number] = (0, None)\n",
        "  fitness = create_problem_instance(problem_instance_number)\n",
        "  print(f'PROBLEM INSTANCE NUMBER = {problem_instance_number}:')\n",
        "\n",
        "  population = initialize_genomes_population(POPULATION_SIZE, GENOME_LENGTH)\n",
        "  fitness_cache = {}\n",
        "\n",
        "  # option 1\n",
        "  def option1(population, fitness_values):\n",
        "    bests1 = []\n",
        "    selected =  selection2(population, fitness_values, TOURNAMENT_SIZE)\n",
        "    new_population = selected.copy()\n",
        "    while len(new_population) < POPULATION_SIZE:\n",
        "      parent1, parent2 = tournament_selection(population, fitness_values, TOURNAMENT_SIZE)\n",
        "      child = crossover_one_child(parent1, parent2, CROSSOVER_RATE)\n",
        "      child = mutate(child, MUTATION_RATE)\n",
        "      new_population.extend([child])\n",
        "      final_population = new_population[:POPULATION_SIZE]\n",
        "\n",
        "    best_fitness = max(fitness_values)\n",
        "    best_genome = select_best_individual(final_population, fitness_values)\n",
        "    bests1.append((best_genome, best_fitness, fitness.calls))\n",
        "\n",
        "    return bests1\n",
        "\n",
        "  # option 2\n",
        "  def option2(population, fitness_values):\n",
        "    bests1 = []\n",
        "    selected = selection1(population, fitness_values)\n",
        "    new_population = reproduce(selected)\n",
        "    final_population = replacement(population, new_population, fitness_values)\n",
        "\n",
        "    best_fitness = max(fitness_values)\n",
        "    best_genome = select_best_individual(final_population, fitness_values)\n",
        "    bests1.append((best_genome, best_fitness, fitness.calls))\n",
        "\n",
        "    return bests1\n",
        "\n",
        "  # option 3\n",
        "  def option3(population, fitness_values):\n",
        "    bests1 = []\n",
        "    selected =  selection2(population, fitness_values, TOURNAMENT_SIZE)\n",
        "    new_population = selected.copy()\n",
        "    while len(new_population) < POPULATION_SIZE:\n",
        "      parent1, parent2 = tournament_selection(population, fitness_values, TOURNAMENT_SIZE)\n",
        "      child = one_cut_crossover(parent1, parent2)\n",
        "      child = mutate(child, MUTATION_RATE)\n",
        "      new_population.extend([child])\n",
        "      final_population = new_population[:POPULATION_SIZE]\n",
        "\n",
        "    best_fitness = max(fitness_values)\n",
        "    best_genome = select_best_individual(final_population, fitness_values)\n",
        "    bests1.append((best_genome, best_fitness, fitness.calls))\n",
        "\n",
        "    return bests1\n",
        "\n",
        "  # option 4\n",
        "  def option4(population, fitness_values):\n",
        "    bests1 = []\n",
        "    elite =  selection2(population, fitness_values, TOURNAMENT_SIZE)\n",
        "    new_population = elite.copy()\n",
        "    child = None\n",
        "    while len(new_population) < POPULATION_SIZE:\n",
        "      parent1, parent2 = tournament_selection(population, fitness_values, TOURNAMENT_SIZE)\n",
        "      if random.random() < CROSSOVER_RATE:\n",
        "        child = one_cut_crossover(parent1, parent2)\n",
        "        child = mutate(child, MUTATION_RATE)\n",
        "      if child:\n",
        "        new_population.extend([child])\n",
        "      final_population = new_population[:POPULATION_SIZE]\n",
        "\n",
        "    best_fitness = max(fitness_values)\n",
        "    best_genome = select_best_individual(final_population, fitness_values)\n",
        "    bests1.append((best_genome, best_fitness, fitness.calls))\n",
        "\n",
        "    return bests1\n",
        "\n",
        "  # # option 5 -> da rivedere\n",
        "  # def option5(population, fitness_values):\n",
        "  #   bests1 = []\n",
        "  #   elite =  selection2(population, fitness_values, TOURNAMENT_SIZE)\n",
        "  #   new_population =elite.copy()\n",
        "  #   while len(new_population) < POPULATION_SIZE:\n",
        "  #     new_population = reproduce(elite)\n",
        "  #     final_population = replacement(population, new_population, fitness_values)\n",
        "\n",
        "  #   best_fitness = max(fitness_values)\n",
        "  #   best_genome = select_best_individual(final_population, fitness_values)\n",
        "  #   bests1.append((best_genome, best_fitness, fitness.calls))\n",
        "\n",
        "  #   return bests1\n",
        "\n",
        "  options = [option1, option2, option3, option4]\n",
        "\n",
        "  for i, option in enumerate(options):\n",
        "\n",
        "\n",
        "    for generation in range(MAX_GENERATIONS):\n",
        "      fitness_values=[]\n",
        "      for individual in population:\n",
        "        key = tuple(individual)\n",
        "        if key not in fitness_cache:\n",
        "            fitness_cache[key] = fitness(individual)\n",
        "        fitness_values.append(fitness_cache[key])\n",
        "\n",
        "      fitness_scores = [fitness(individual) for individual in population]\n",
        "      best_individual = population[fitness_scores.index(max(fitness_scores))]\n",
        "      bests1 = option(population, fitness_scores)\n",
        "\n",
        "    sorted_list = sorted(bests1, key=lambda x: x[2], reverse=False)\n",
        "    print(f'OPTION {i+1}, number = {problem_instance_number}')\n",
        "    (first_genome, fitness_first, calls_first) = sorted_list[0]\n",
        "    print(f'Minimum number of calls = {calls_first} -> associated fitness = {round(fitness_first * 100, 2)}%')\n",
        "    # just to check if the genome with the highest fitness is not the one with the lowest number of calls\n",
        "    # a_sorted_list = sorted(bests1, key=lambda x: x[1], reverse=True)\n",
        "    # (a_first_genome, a_fitness_first, a_calls_first) = a_sorted_list[0]\n",
        "    # print(f'Maximum Fitness = {a_fitness_first} -> associated number of calls = {a_calls_first}')\n",
        "\n",
        "  print('\\n')\n",
        "\n"
      ],
      "metadata": {
        "colab": {
          "base_uri": "https://localhost:8080/"
        },
        "id": "jJ7TkmUmYdFW",
        "outputId": "0bb92f38-d66c-4b26-f530-f85fbbf7ceeb"
      },
      "execution_count": 19,
      "outputs": [
        {
          "output_type": "stream",
          "name": "stdout",
          "text": [
            "Parameters for this run:\n",
            "mutation rate=0.001, crossover rate=0.5, population size=200, tournament size=7, max number of generations=10, offspring size=20\n",
            "PROBLEM INSTANCE NUMBER = 1:\n",
            "OPTION 1, number = 1\n",
            "Minimum number of calls = 2558 -> associated fitness = 54.8%\n",
            "OPTION 2, number = 1\n",
            "Minimum number of calls = 4701 -> associated fitness = 54.2%\n",
            "OPTION 3, number = 1\n",
            "Minimum number of calls = 6711 -> associated fitness = 54.2%\n",
            "OPTION 4, number = 1\n",
            "Minimum number of calls = 8711 -> associated fitness = 54.2%\n",
            "\n",
            "\n",
            "PROBLEM INSTANCE NUMBER = 2:\n",
            "OPTION 1, number = 2\n",
            "Minimum number of calls = 2522 -> associated fitness = 25.63%\n",
            "OPTION 2, number = 2\n",
            "Minimum number of calls = 4673 -> associated fitness = 25.61%\n",
            "OPTION 3, number = 2\n",
            "Minimum number of calls = 6684 -> associated fitness = 25.8%\n",
            "OPTION 4, number = 2\n",
            "Minimum number of calls = 8684 -> associated fitness = 25.8%\n",
            "\n",
            "\n",
            "PROBLEM INSTANCE NUMBER = 5:\n",
            "OPTION 1, number = 5\n",
            "Minimum number of calls = 2559 -> associated fitness = 10.99%\n",
            "OPTION 2, number = 5\n",
            "Minimum number of calls = 4703 -> associated fitness = 10.96%\n",
            "OPTION 3, number = 5\n",
            "Minimum number of calls = 6713 -> associated fitness = 10.96%\n",
            "OPTION 4, number = 5\n",
            "Minimum number of calls = 8713 -> associated fitness = 10.96%\n",
            "\n",
            "\n",
            "PROBLEM INSTANCE NUMBER = 10:\n",
            "OPTION 1, number = 10\n",
            "Minimum number of calls = 2541 -> associated fitness = 11.17%\n",
            "OPTION 2, number = 10\n",
            "Minimum number of calls = 4677 -> associated fitness = 11.54%\n",
            "OPTION 3, number = 10\n",
            "Minimum number of calls = 6690 -> associated fitness = 6.01%\n",
            "OPTION 4, number = 10\n",
            "Minimum number of calls = 8690 -> associated fitness = 6.01%\n",
            "\n",
            "\n"
          ]
        }
      ]
    },
    {
      "cell_type": "markdown",
      "source": [
        "Overall, the option1 is the one which behaves better in almost all the case and generically with the biggest part of the configurations. However, the option2 beats the option1 in the other cases (with also quite-high difference in fitness percentage).\n",
        "Unfortunately, none of the options reach or overcome the 60% in any case.\n",
        "Last consideration regards the fact that lower is the problem instance, better is the fitness."
      ],
      "metadata": {
        "id": "B68_jmLk8xco"
      }
    },
    {
      "cell_type": "markdown",
      "source": [
        "Next step would be let the algorithm run with all the possible configurations to find the best one (i.e, the one that reach a percentage near to 100%)"
      ],
      "metadata": {
        "id": "jaHkckMxRE-J"
      }
    }
  ]
}