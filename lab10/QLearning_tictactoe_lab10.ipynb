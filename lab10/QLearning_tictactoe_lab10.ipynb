{
  "nbformat": 4,
  "nbformat_minor": 0,
  "metadata": {
    "colab": {
      "provenance": [],
      "toc_visible": true
    },
    "kernelspec": {
      "name": "python3",
      "display_name": "Python 3"
    },
    "language_info": {
      "name": "python"
    },
    "widgets": {
      "application/vnd.jupyter.widget-state+json": {
        "1676e952b9b54034adf5deeabfb1c952": {
          "model_module": "@jupyter-widgets/controls",
          "model_name": "HBoxModel",
          "model_module_version": "1.5.0",
          "state": {
            "_dom_classes": [],
            "_model_module": "@jupyter-widgets/controls",
            "_model_module_version": "1.5.0",
            "_model_name": "HBoxModel",
            "_view_count": null,
            "_view_module": "@jupyter-widgets/controls",
            "_view_module_version": "1.5.0",
            "_view_name": "HBoxView",
            "box_style": "",
            "children": [
              "IPY_MODEL_ecf3c286625c415881324155faa2857b",
              "IPY_MODEL_e358fa05415b4deebc544e89805c899a",
              "IPY_MODEL_37306cd44ab144edb5aa56d3192fb933"
            ],
            "layout": "IPY_MODEL_7163b4dedae84de4b26b463e61e9cb21"
          }
        },
        "ecf3c286625c415881324155faa2857b": {
          "model_module": "@jupyter-widgets/controls",
          "model_name": "HTMLModel",
          "model_module_version": "1.5.0",
          "state": {
            "_dom_classes": [],
            "_model_module": "@jupyter-widgets/controls",
            "_model_module_version": "1.5.0",
            "_model_name": "HTMLModel",
            "_view_count": null,
            "_view_module": "@jupyter-widgets/controls",
            "_view_module_version": "1.5.0",
            "_view_name": "HTMLView",
            "description": "",
            "description_tooltip": null,
            "layout": "IPY_MODEL_62bf96214aa34b08aebfa1d35414f350",
            "placeholder": "​",
            "style": "IPY_MODEL_8c08752d1de2482a85a5c7735e2501bf",
            "value": "100%"
          }
        },
        "e358fa05415b4deebc544e89805c899a": {
          "model_module": "@jupyter-widgets/controls",
          "model_name": "FloatProgressModel",
          "model_module_version": "1.5.0",
          "state": {
            "_dom_classes": [],
            "_model_module": "@jupyter-widgets/controls",
            "_model_module_version": "1.5.0",
            "_model_name": "FloatProgressModel",
            "_view_count": null,
            "_view_module": "@jupyter-widgets/controls",
            "_view_module_version": "1.5.0",
            "_view_name": "ProgressView",
            "bar_style": "success",
            "description": "",
            "description_tooltip": null,
            "layout": "IPY_MODEL_cfbf96ddb6de404fb3bb19c3261b0e7c",
            "max": 1000,
            "min": 0,
            "orientation": "horizontal",
            "style": "IPY_MODEL_04d62c35729f46be96b898e889f8a4b2",
            "value": 1000
          }
        },
        "37306cd44ab144edb5aa56d3192fb933": {
          "model_module": "@jupyter-widgets/controls",
          "model_name": "HTMLModel",
          "model_module_version": "1.5.0",
          "state": {
            "_dom_classes": [],
            "_model_module": "@jupyter-widgets/controls",
            "_model_module_version": "1.5.0",
            "_model_name": "HTMLModel",
            "_view_count": null,
            "_view_module": "@jupyter-widgets/controls",
            "_view_module_version": "1.5.0",
            "_view_name": "HTMLView",
            "description": "",
            "description_tooltip": null,
            "layout": "IPY_MODEL_797331c6a7564ae699cc752457fbfcf5",
            "placeholder": "​",
            "style": "IPY_MODEL_a82adf46037c4f46a4a041d955cbf391",
            "value": " 1000/1000 [00:00&lt;00:00, 4777.48it/s]"
          }
        },
        "7163b4dedae84de4b26b463e61e9cb21": {
          "model_module": "@jupyter-widgets/base",
          "model_name": "LayoutModel",
          "model_module_version": "1.2.0",
          "state": {
            "_model_module": "@jupyter-widgets/base",
            "_model_module_version": "1.2.0",
            "_model_name": "LayoutModel",
            "_view_count": null,
            "_view_module": "@jupyter-widgets/base",
            "_view_module_version": "1.2.0",
            "_view_name": "LayoutView",
            "align_content": null,
            "align_items": null,
            "align_self": null,
            "border": null,
            "bottom": null,
            "display": null,
            "flex": null,
            "flex_flow": null,
            "grid_area": null,
            "grid_auto_columns": null,
            "grid_auto_flow": null,
            "grid_auto_rows": null,
            "grid_column": null,
            "grid_gap": null,
            "grid_row": null,
            "grid_template_areas": null,
            "grid_template_columns": null,
            "grid_template_rows": null,
            "height": null,
            "justify_content": null,
            "justify_items": null,
            "left": null,
            "margin": null,
            "max_height": null,
            "max_width": null,
            "min_height": null,
            "min_width": null,
            "object_fit": null,
            "object_position": null,
            "order": null,
            "overflow": null,
            "overflow_x": null,
            "overflow_y": null,
            "padding": null,
            "right": null,
            "top": null,
            "visibility": null,
            "width": null
          }
        },
        "62bf96214aa34b08aebfa1d35414f350": {
          "model_module": "@jupyter-widgets/base",
          "model_name": "LayoutModel",
          "model_module_version": "1.2.0",
          "state": {
            "_model_module": "@jupyter-widgets/base",
            "_model_module_version": "1.2.0",
            "_model_name": "LayoutModel",
            "_view_count": null,
            "_view_module": "@jupyter-widgets/base",
            "_view_module_version": "1.2.0",
            "_view_name": "LayoutView",
            "align_content": null,
            "align_items": null,
            "align_self": null,
            "border": null,
            "bottom": null,
            "display": null,
            "flex": null,
            "flex_flow": null,
            "grid_area": null,
            "grid_auto_columns": null,
            "grid_auto_flow": null,
            "grid_auto_rows": null,
            "grid_column": null,
            "grid_gap": null,
            "grid_row": null,
            "grid_template_areas": null,
            "grid_template_columns": null,
            "grid_template_rows": null,
            "height": null,
            "justify_content": null,
            "justify_items": null,
            "left": null,
            "margin": null,
            "max_height": null,
            "max_width": null,
            "min_height": null,
            "min_width": null,
            "object_fit": null,
            "object_position": null,
            "order": null,
            "overflow": null,
            "overflow_x": null,
            "overflow_y": null,
            "padding": null,
            "right": null,
            "top": null,
            "visibility": null,
            "width": null
          }
        },
        "8c08752d1de2482a85a5c7735e2501bf": {
          "model_module": "@jupyter-widgets/controls",
          "model_name": "DescriptionStyleModel",
          "model_module_version": "1.5.0",
          "state": {
            "_model_module": "@jupyter-widgets/controls",
            "_model_module_version": "1.5.0",
            "_model_name": "DescriptionStyleModel",
            "_view_count": null,
            "_view_module": "@jupyter-widgets/base",
            "_view_module_version": "1.2.0",
            "_view_name": "StyleView",
            "description_width": ""
          }
        },
        "cfbf96ddb6de404fb3bb19c3261b0e7c": {
          "model_module": "@jupyter-widgets/base",
          "model_name": "LayoutModel",
          "model_module_version": "1.2.0",
          "state": {
            "_model_module": "@jupyter-widgets/base",
            "_model_module_version": "1.2.0",
            "_model_name": "LayoutModel",
            "_view_count": null,
            "_view_module": "@jupyter-widgets/base",
            "_view_module_version": "1.2.0",
            "_view_name": "LayoutView",
            "align_content": null,
            "align_items": null,
            "align_self": null,
            "border": null,
            "bottom": null,
            "display": null,
            "flex": null,
            "flex_flow": null,
            "grid_area": null,
            "grid_auto_columns": null,
            "grid_auto_flow": null,
            "grid_auto_rows": null,
            "grid_column": null,
            "grid_gap": null,
            "grid_row": null,
            "grid_template_areas": null,
            "grid_template_columns": null,
            "grid_template_rows": null,
            "height": null,
            "justify_content": null,
            "justify_items": null,
            "left": null,
            "margin": null,
            "max_height": null,
            "max_width": null,
            "min_height": null,
            "min_width": null,
            "object_fit": null,
            "object_position": null,
            "order": null,
            "overflow": null,
            "overflow_x": null,
            "overflow_y": null,
            "padding": null,
            "right": null,
            "top": null,
            "visibility": null,
            "width": null
          }
        },
        "04d62c35729f46be96b898e889f8a4b2": {
          "model_module": "@jupyter-widgets/controls",
          "model_name": "ProgressStyleModel",
          "model_module_version": "1.5.0",
          "state": {
            "_model_module": "@jupyter-widgets/controls",
            "_model_module_version": "1.5.0",
            "_model_name": "ProgressStyleModel",
            "_view_count": null,
            "_view_module": "@jupyter-widgets/base",
            "_view_module_version": "1.2.0",
            "_view_name": "StyleView",
            "bar_color": null,
            "description_width": ""
          }
        },
        "797331c6a7564ae699cc752457fbfcf5": {
          "model_module": "@jupyter-widgets/base",
          "model_name": "LayoutModel",
          "model_module_version": "1.2.0",
          "state": {
            "_model_module": "@jupyter-widgets/base",
            "_model_module_version": "1.2.0",
            "_model_name": "LayoutModel",
            "_view_count": null,
            "_view_module": "@jupyter-widgets/base",
            "_view_module_version": "1.2.0",
            "_view_name": "LayoutView",
            "align_content": null,
            "align_items": null,
            "align_self": null,
            "border": null,
            "bottom": null,
            "display": null,
            "flex": null,
            "flex_flow": null,
            "grid_area": null,
            "grid_auto_columns": null,
            "grid_auto_flow": null,
            "grid_auto_rows": null,
            "grid_column": null,
            "grid_gap": null,
            "grid_row": null,
            "grid_template_areas": null,
            "grid_template_columns": null,
            "grid_template_rows": null,
            "height": null,
            "justify_content": null,
            "justify_items": null,
            "left": null,
            "margin": null,
            "max_height": null,
            "max_width": null,
            "min_height": null,
            "min_width": null,
            "object_fit": null,
            "object_position": null,
            "order": null,
            "overflow": null,
            "overflow_x": null,
            "overflow_y": null,
            "padding": null,
            "right": null,
            "top": null,
            "visibility": null,
            "width": null
          }
        },
        "a82adf46037c4f46a4a041d955cbf391": {
          "model_module": "@jupyter-widgets/controls",
          "model_name": "DescriptionStyleModel",
          "model_module_version": "1.5.0",
          "state": {
            "_model_module": "@jupyter-widgets/controls",
            "_model_module_version": "1.5.0",
            "_model_name": "DescriptionStyleModel",
            "_view_count": null,
            "_view_module": "@jupyter-widgets/base",
            "_view_module_version": "1.2.0",
            "_view_name": "StyleView",
            "description_width": ""
          }
        }
      }
    }
  },
  "cells": [
    {
      "cell_type": "markdown",
      "source": [
        "# Lab 10"
      ],
      "metadata": {
        "id": "1OBGLe4Fibzr"
      }
    },
    {
      "cell_type": "markdown",
      "source": [
        "## starting point (lab in class)"
      ],
      "metadata": {
        "id": "-as2e4MakYwd"
      }
    },
    {
      "cell_type": "markdown",
      "source": [
        "![image.png](data:image/png;base64,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)"
      ],
      "metadata": {
        "id": "wS9Xm_Vb2uqt"
      }
    },
    {
      "cell_type": "code",
      "source": [
        "from random import choice\n",
        "# let's play tic tac toe with the magic square knowledge background\n",
        "import numpy as np\n",
        "from itertools import combinations\n",
        "from collections import namedtuple, defaultdict\n",
        "from copy import deepcopy\n",
        "from tqdm.auto import tqdm\n",
        "\n",
        "MAGIC = [2, 7, 6,\n",
        "         9, 5, 1,\n",
        "         4, 3, 8]\n",
        "\n",
        "State = namedtuple('State', ['x', 'o'])\n",
        "\n",
        "def win(elements):\n",
        "    # check if the elements are winning\n",
        "    # if any of the combinations of 3 numbers taken randomly from 1 to 9 is equal to 15\n",
        "    return any(sum(c) == 15 for c in combinations(elements, 3))\n",
        "\n",
        "def state_value(pos: State):\n",
        "    # evaluate state: +1 first player wins\n",
        "    if win(pos.x):\n",
        "      return 1\n",
        "    elif win(pos.o):\n",
        "      return -1\n",
        "    else:\n",
        "      return 0\n",
        "\n",
        "def print_board(pos):\n",
        "    for row in range(3):\n",
        "      for column in range(3):\n",
        "        i = row * 3 + column\n",
        "        if MAGIC[i] in pos.x:\n",
        "          print('x', end='')\n",
        "        if MAGIC[i] in pos.o:\n",
        "          print('o', end='')\n",
        "        else:\n",
        "          print('_', end='')\n",
        "      print()\n",
        "    print()\n"
      ],
      "metadata": {
        "id": "5j6p2tXH0204"
      },
      "execution_count": 20,
      "outputs": []
    },
    {
      "cell_type": "code",
      "source": [
        "def random_game():\n",
        "    trajectory = list()\n",
        "    state = State(set(), set())\n",
        "    available = set(range(1, 9+1))\n",
        "\n",
        "    while available:\n",
        "      x = choice(list(available))\n",
        "      state.x.add(x)\n",
        "      trajectory.append(deepcopy(state))\n",
        "      available.remove(x)\n",
        "      if win(state.x) or not available:\n",
        "        break\n",
        "\n",
        "\n",
        "      o = choice(list(available))\n",
        "      state.o.add(o)\n",
        "      trajectory.append(deepcopy(state))\n",
        "      available.remove(o)\n",
        "      if win(state.o):\n",
        "        break\n",
        "\n",
        "    return trajectory\n",
        "\n",
        "# main loop\n",
        "value_dictionary = defaultdict(float)\n",
        "hit_state = defaultdict(int)\n",
        "epsilon = .001\n",
        "\n",
        "for steps in tqdm(range(1000)):\n",
        "  trajectory = random_game()\n",
        "  final_reward = state_value(trajectory[-1])\n",
        "  # it's a cumulative sum\n",
        "  for state in trajectory:\n",
        "    hashable_state = (frozenset(state.x), frozenset(state.o))\n",
        "    hit_state[hashable_state] += 1 # times of the moves\n",
        "    value_dictionary[hashable_state] = value_dictionary[hashable_state] + epsilon*(final_reward - value_dictionary[hashable_state])"
      ],
      "metadata": {
        "colab": {
          "base_uri": "https://localhost:8080/",
          "height": 49,
          "referenced_widgets": [
            "1676e952b9b54034adf5deeabfb1c952",
            "ecf3c286625c415881324155faa2857b",
            "e358fa05415b4deebc544e89805c899a",
            "37306cd44ab144edb5aa56d3192fb933",
            "7163b4dedae84de4b26b463e61e9cb21",
            "62bf96214aa34b08aebfa1d35414f350",
            "8c08752d1de2482a85a5c7735e2501bf",
            "cfbf96ddb6de404fb3bb19c3261b0e7c",
            "04d62c35729f46be96b898e889f8a4b2",
            "797331c6a7564ae699cc752457fbfcf5",
            "a82adf46037c4f46a4a041d955cbf391"
          ]
        },
        "id": "x2P_c3LJW54F",
        "outputId": "c7ec1c1d-aaad-4538-c318-45adf5020691"
      },
      "execution_count": 21,
      "outputs": [
        {
          "output_type": "display_data",
          "data": {
            "text/plain": [
              "  0%|          | 0/1000 [00:00<?, ?it/s]"
            ],
            "application/vnd.jupyter.widget-view+json": {
              "version_major": 2,
              "version_minor": 0,
              "model_id": "1676e952b9b54034adf5deeabfb1c952"
            }
          },
          "metadata": {}
        }
      ]
    },
    {
      "cell_type": "code",
      "source": [
        "sorted(hit_state.items(), key = lambda e: e[1], reverse = True)[:10]"
      ],
      "metadata": {
        "colab": {
          "base_uri": "https://localhost:8080/"
        },
        "id": "Z18Dt6PJ1D4v",
        "outputId": "62866225-3253-49cc-9b11-6044169592c1"
      },
      "execution_count": 22,
      "outputs": [
        {
          "output_type": "execute_result",
          "data": {
            "text/plain": [
              "[((frozenset({8}), frozenset()), 129),\n",
              " ((frozenset({7}), frozenset()), 125),\n",
              " ((frozenset({4}), frozenset()), 121),\n",
              " ((frozenset({1}), frozenset()), 114),\n",
              " ((frozenset({6}), frozenset()), 112),\n",
              " ((frozenset({2}), frozenset()), 103),\n",
              " ((frozenset({9}), frozenset()), 102),\n",
              " ((frozenset({5}), frozenset()), 98),\n",
              " ((frozenset({3}), frozenset()), 96),\n",
              " ((frozenset({8}), frozenset({7})), 22)]"
            ]
          },
          "metadata": {},
          "execution_count": 22
        }
      ]
    },
    {
      "cell_type": "code",
      "source": [
        "len(hit_state)"
      ],
      "metadata": {
        "colab": {
          "base_uri": "https://localhost:8080/"
        },
        "id": "M4zuokad1R_k",
        "outputId": "facbb58c-5bf1-4a2a-9d3e-f25f74d63df4"
      },
      "execution_count": 23,
      "outputs": [
        {
          "output_type": "execute_result",
          "data": {
            "text/plain": [
              "3214"
            ]
          },
          "metadata": {},
          "execution_count": 23
        }
      ]
    },
    {
      "cell_type": "markdown",
      "source": [
        "## Q Learning"
      ],
      "metadata": {
        "id": "dRPfEG6piW6K"
      }
    },
    {
      "cell_type": "code",
      "source": [
        "from random import choice\n",
        "# let's play tic tac toe with the magic square knowledge background\n",
        "import numpy as np\n",
        "from itertools import combinations\n",
        "from collections import namedtuple, defaultdict\n",
        "from copy import deepcopy\n",
        "from tqdm.auto import tqdm"
      ],
      "metadata": {
        "id": "v4shsigX5f6L"
      },
      "execution_count": 24,
      "outputs": []
    },
    {
      "cell_type": "code",
      "source": [
        "import random\n",
        "# let's play tic tac toe with the magic square knowledge background\n",
        "import numpy as np\n",
        "from itertools import combinations\n",
        "from collections import namedtuple, defaultdict\n",
        "from copy import deepcopy\n",
        "from tqdm.auto import tqdm\n",
        "\n",
        "State = namedtuple('State', ['x', 'o'])\n",
        "\n",
        "MAGIC = [2, 7, 6,\n",
        "         9, 5, 1,\n",
        "         4, 3, 8]\n",
        "\n",
        "def win(elements):\n",
        "    # check if the elements are winning\n",
        "    # if any of the combinations of 3 numbers taken randomly from 1 to 9 is equal to 15\n",
        "    return any(sum(c) == 15 for c in combinations(elements, 3))\n",
        "\n",
        "def state_value(pos: State):\n",
        "    # evaluate state: +1 first player wins\n",
        "    if win(pos.x):\n",
        "      return 1\n",
        "    elif win(pos.o):\n",
        "      return 0\n",
        "    else:\n",
        "      return -1\n",
        "\n",
        "def print_board(pos):\n",
        "    for row in range(3):\n",
        "      for column in range(3):\n",
        "        i = row * 3 + column\n",
        "        if MAGIC[i] in pos.x:\n",
        "          print('x', end='')\n",
        "        if MAGIC[i] in pos.o:\n",
        "          print('o', end='')\n",
        "        else:\n",
        "          print('_', end='')\n",
        "      print()\n",
        "    print()"
      ],
      "metadata": {
        "id": "9n-dpBBF8LfS"
      },
      "execution_count": 25,
      "outputs": []
    },
    {
      "cell_type": "code",
      "source": [
        "class RandomPlayer:\n",
        "  def __init__(self, x_or_o):\n",
        "      self.x_or_o = x_or_o\n",
        "      self.wins = 0\n",
        "      self.value_dictionary = defaultdict(float)\n",
        "      self.alpha = 0.1\n",
        "      self.decay_gamma = 0.9\n",
        "\n",
        "  def move(self, available, state = None):\n",
        "      return random.choice(list(available))\n",
        "\n",
        "  def feedReward(self, state, reward, action):\n",
        "      hashable_state = (frozenset(state.x), frozenset(state.o))\n",
        "      self.value_dictionary[(hashable_state, action)] += self.alpha * (self.decay_gamma * reward - self.value_dictionary[(hashable_state, action)])\n",
        "      r = self.value_dictionary[(hashable_state, action)]\n",
        "      return r"
      ],
      "metadata": {
        "id": "Ix7_CXK280i-"
      },
      "execution_count": 26,
      "outputs": []
    },
    {
      "cell_type": "code",
      "source": [
        "class QLearningAgent:\n",
        "    def __init__(self, x_or_o, epsilon=0.1, alpha=0.2, gamma=0.9):\n",
        "        # Q-values: {(state, action): value}\n",
        "        self.x_or_o = x_or_o\n",
        "        # self.q_values = defaultdict(float)\n",
        "        self.q_values = {}\n",
        "        self.epsilon = epsilon  # balance between exploration and exploitation\n",
        "        self.alpha = alpha  # learning rate\n",
        "        self.gamma = gamma  # discount factor\n",
        "        self.wins = 0\n",
        "\n",
        "    def do_it_random(self, available, state):\n",
        "        move = random.choice(list(available))\n",
        "        current_state = deepcopy(state)\n",
        "        current_state.x.add(move)\n",
        "        # if (frozenset(state.x), frozenset(state.o)) not in self.value_dictionary.keys():\n",
        "        self.q_values[(frozenset(state.x), frozenset(state.o))] = epsilon\n",
        "        return move\n",
        "\n",
        "    def get_q_value(self, state, action):\n",
        "        hashable_state = (frozenset(state.x), frozenset(state.o))\n",
        "        # return self.q_values[(hashable_state, action)]\n",
        "        return self.q_values.get((hashable_state, action), 0.0)\n",
        "\n",
        "    def move(self, available, state):\n",
        "        best_move = None\n",
        "        if random.uniform(0, 1) <= epsilon:\n",
        "          # do a random move\n",
        "          move = self.do_it_random(available, state)\n",
        "          best_move = move\n",
        "        else:\n",
        "            # exploitation phase: choose the move with the highest value of q\n",
        "            q_values = [self.get_q_value(state, action) for action in available]\n",
        "            # hashable_state = (frozenset(state.x), frozenset(state.o))\n",
        "            # q_values = [self.q_values[(hashable_state, action)]  for action in available]\n",
        "            max_q_value = max(q_values)\n",
        "            best_actions = [action for action, q_value in zip(available, q_values) if q_value == max_q_value]\n",
        "            best_move = random.choice(best_actions)\n",
        "\n",
        "        return best_move\n",
        "\n",
        "    def update_q_value(self, state, action, reward, next_state):\n",
        "        max_next_q_value = max(self.get_q_value(next_state, next_action) for next_action in range(1, 10))\n",
        "        updated_q_value = (1 - self.alpha) * self.get_q_value(state, action) + self.alpha * (reward + self.gamma * max_next_q_value)\n",
        "        hashable_state = (frozenset(state.x), frozenset(state.o))\n",
        "\n",
        "        self.q_values[(hashable_state, action)] = updated_q_value\n",
        "\n",
        "    def return_lr(self, state, reward, action):\n",
        "        hashable_state = (frozenset(state.x), frozenset(state.o))\n",
        "        self.q_values[(hashable_state, action)] += self.alpha * (self.decay_gamma * reward - self.q_values[(hashable_state, action)])\n",
        "        r = self.q_values[(hashable_state, action)]\n",
        "        self.alpha *= self.decay_gamma\n",
        "        return self.alpha\n",
        "\n",
        "    def feedReward(self, state, reward, action):\n",
        "        hashable_state = (frozenset(state.x), frozenset(state.o))\n",
        "        if hashable_state in self.q_values.keys():\n",
        "          self.q_values[(hashable_state, action)] += self.alpha * (self.decay_gamma * reward - self.q_values[(hashable_state, action)])\n",
        "          r = self.q_values[(hashable_state, action)]\n",
        "        else:\n",
        "          r = -0.5\n",
        "        return r\n",
        "\n",
        "def game(player1, player2):\n",
        "    trajectory = list()\n",
        "    state = State(set(), set())\n",
        "    available = set(range(1, 9+1))\n",
        "\n",
        "    players = [player1, player2]\n",
        "    first_player = random.choice([0, 1])\n",
        "    while available:\n",
        "      current_player = players[first_player]\n",
        "\n",
        "      move = current_player.move(list(available), state)\n",
        "\n",
        "      # x = random.choice(list(available))\n",
        "      if current_player.x_or_o == 1: # move = put a x\n",
        "        state.x.add(move)\n",
        "        trajectory.append(deepcopy(state))\n",
        "        available.remove(move)\n",
        "        if win(state.x) or not available:\n",
        "          # current_player.wins += 1\n",
        "          player2.wins += 1\n",
        "          break\n",
        "\n",
        "      else: # move = put a o\n",
        "        # o = random.choice(list(available))\n",
        "        state.o.add(move)\n",
        "        trajectory.append(deepcopy(state))\n",
        "        available.remove(move)\n",
        "        if win(state.o):\n",
        "          # current_player.wins += 1\n",
        "          player1.wins += 1\n",
        "          break\n",
        "\n",
        "      first_player = 1 - first_player # if player 0 started, now it's the turn of player 1\n",
        "\n",
        "    return trajectory, move\n",
        "\n",
        "\n",
        "def give_reward(state, player1, player2, action):\n",
        "    # result = win(state.x)\n",
        "    if win(state.x): # x won\n",
        "      player1.feedReward(state, 1, action)\n",
        "      fr = player2.feedReward(state, -0.5, action)\n",
        "    elif win(state.o): # o won\n",
        "      player1.feedReward(state, -0.5, action)\n",
        "      fr =  player2.feedReward(state, 1, action)\n",
        "    else: # nobody won\n",
        "      player1.feedReward(state, 0.1, action)\n",
        "      fr = player2.feedReward(state, 0.1, action)\n",
        "    return fr\n",
        "\n",
        "\n",
        "# player1 = RandomPlayer(0) # o\n",
        "# player2 = QLearningAgent(1) # x\n",
        "epsilon = 0.1\n",
        "\n",
        "def train(player1, player2, matches = 10_000):\n",
        "    for _ in range(matches):\n",
        "        trajectory, action = game(player1, player2)\n",
        "        # print(trajectory)\n",
        "        reward = give_reward(trajectory[-1], player1, player2, action)\n",
        "\n",
        "        for state in trajectory:\n",
        "            player2.update_q_value(state, action, -reward, trajectory[-1])\n",
        "\n",
        "    win_percentage = player2.wins / matches * 100\n",
        "    print(f'The Q-learning agent wins {win_percentage}% of the times in training.')\n",
        "\n",
        "\n",
        "def test(player1, player2, test_matches=1000):\n",
        "    player2.wins = 0\n",
        "\n",
        "    for _ in range(test_matches):\n",
        "        trajectory, action = game(player1, player2)\n",
        "\n",
        "    win_percentage = player2.wins / test_matches * 100\n",
        "    print(f'The Q-learning agent wins {win_percentage}% of the times in testing.')\n",
        "\n",
        "\n",
        "if __name__ == \"__main__\":\n",
        "    player1 = RandomPlayer(0)\n",
        "    player2 = QLearningAgent(1)\n",
        "\n",
        "    train(player1, player2)\n",
        "    test(player1, player2)"
      ],
      "metadata": {
        "colab": {
          "base_uri": "https://localhost:8080/"
        },
        "id": "tPoTf2wu7xa9",
        "outputId": "9a526f72-511b-4641-f133-944a69feadff"
      },
      "execution_count": 27,
      "outputs": [
        {
          "output_type": "stream",
          "name": "stdout",
          "text": [
            "The Q-learning agent wins 79.36% of the times in training.\n",
            "The Q-learning agent wins 86.3% of the times in testing.\n"
          ]
        }
      ]
    },
    {
      "cell_type": "markdown",
      "source": [
        "_________________"
      ],
      "metadata": {
        "id": "lTOBeGuaHI4e"
      }
    }
  ]
}