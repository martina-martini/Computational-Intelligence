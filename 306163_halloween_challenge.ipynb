{
  "nbformat": 4,
  "nbformat_minor": 0,
  "metadata": {
    "colab": {
      "provenance": []
    },
    "kernelspec": {
      "name": "python3",
      "display_name": "Python 3"
    },
    "language_info": {
      "name": "python"
    }
  },
  "cells": [
    {
      "cell_type": "markdown",
      "source": [
        "# SETUPS"
      ],
      "metadata": {
        "id": "G6yvYhrAiM0a"
      }
    },
    {
      "cell_type": "code",
      "execution_count": 1,
      "metadata": {
        "id": "kS1pWcpXiIgX"
      },
      "outputs": [],
      "source": [
        "from functools import reduce\n",
        "from collections import namedtuple\n",
        "from copy import copy\n",
        "from itertools import product\n",
        "from random import random, randint, shuffle, seed, choice\n",
        "import numpy as np\n",
        "from scipy import sparse\n",
        "\n",
        "def make_set_covering_problem(num_points, num_sets, density):\n",
        "    \"\"\"Returns a sparse array where rows are sets and columns are the covered items\"\"\"\n",
        "    seed(num_points*2654435761+num_sets+density)\n",
        "    sets = sparse.lil_array((num_sets, num_points), dtype=bool)\n",
        "    for s, p in product(range(num_sets), range(num_points)):\n",
        "        if random() < density:\n",
        "            sets[s, p] = True\n",
        "    for p in range(num_points):\n",
        "        sets[randint(0, num_sets-1), p] = True\n",
        "    return sets"
      ]
    },
    {
      "cell_type": "code",
      "source": [
        "num_points=100\n",
        "num_sets=num_points\n",
        "x = make_set_covering_problem(num_points, num_sets, .3)\n",
        "counter=0\n",
        "print(\"Element at row=42 and column=42:\", x[42,42])"
      ],
      "metadata": {
        "colab": {
          "base_uri": "https://localhost:8080/"
        },
        "id": "vQbtLq46iWnv",
        "outputId": "8d6a041d-06f4-4a6b-96a2-203e076b4bef"
      },
      "execution_count": 2,
      "outputs": [
        {
          "output_type": "stream",
          "name": "stdout",
          "text": [
            "Element at row=42 and column=42: True\n"
          ]
        }
      ]
    },
    {
      "cell_type": "code",
      "source": [
        "def fitness(state, prob_size, SETS):\n",
        "    cost = sum(state)\n",
        "    valid = np.sum(\n",
        "        reduce(\n",
        "            np.logical_or,\n",
        "            [SETS[i] for i, t in enumerate(state) if t],\n",
        "            np.array([False for _ in range(prob_size)]),\n",
        "        )\n",
        "    )\n",
        "    return valid, -cost\n",
        "\n",
        "def tweak(state, prob_size):\n",
        "    new_state = copy(state)\n",
        "    index = randint(0, prob_size - 1)\n",
        "    new_state[index] = not new_state[index]\n",
        "    return new_state"
      ],
      "metadata": {
        "id": "9gVwTzqtiZfO"
      },
      "execution_count": 3,
      "outputs": []
    },
    {
      "cell_type": "markdown",
      "source": [
        "# HILL CLIMBING"
      ],
      "metadata": {
        "id": "NRuWOHq4ia_y"
      }
    },
    {
      "cell_type": "code",
      "source": [
        "def hill_climbing(current_state, prob_size, SETS):\n",
        "    best_solution = current_state\n",
        "    best_valid, best_cost = fitness(best_solution, prob_size, SETS)\n",
        "    evaluations = 1\n",
        "    step = 0\n",
        "\n",
        "    while True:\n",
        "        step += 1\n",
        "        neighbors = [tweak(best_solution, prob_size) for _ in range(prob_size)]\n",
        "        found_better = False\n",
        "\n",
        "        for neighbor in neighbors:\n",
        "            neighbor_valid, neighbor_cost = fitness(neighbor, prob_size, SETS)\n",
        "\n",
        "            if neighbor_valid > best_valid or (neighbor_valid == best_valid and neighbor_cost > best_cost):\n",
        "                best_solution = neighbor\n",
        "                best_valid = neighbor_valid\n",
        "                best_cost = neighbor_cost\n",
        "                found_better = True\n",
        "\n",
        "            evaluations += 1\n",
        "\n",
        "        if not found_better:\n",
        "            break\n",
        "\n",
        "    return evaluations, step, best_valid, best_cost\n"
      ],
      "metadata": {
        "id": "P8wvokrRicmR"
      },
      "execution_count": 4,
      "outputs": []
    },
    {
      "cell_type": "markdown",
      "source": [
        "When using **hill climbing algorithm** for set covering problem, you can do the following steps:\n",
        "\n",
        "\n",
        "1.   initialize the the best solution as the current state\n",
        "2.   call the fitness function for the current state and compute the costs\n",
        "3.   construct the neighbors using the tweak function\n",
        "4.   compute the fitness function for each neighbor\n",
        "\n",
        "      1.   if the fitness value of one of the neighbor is higher than the fitness value of the current state, then the new solution is updated\n",
        "      2.   if the fitness value of one of the neighbors is not improving the current solution, then look at the costs: if the cost is updated, then update also the current solution\n",
        "\n",
        "5. for each of this step, increase the number of steps and the number of evaluations\n",
        "\n",
        "\n",
        "\n"
      ],
      "metadata": {
        "id": "_hvYxME92F6M"
      }
    },
    {
      "cell_type": "code",
      "source": [
        "PROBLEM_SIZE = [100, 1_000, 5_000]\n",
        "NUM_SETS = [100, 1_000, 5_000]\n",
        "DENSITY = [.3, .7]\n",
        "\n",
        "for prob_size in PROBLEM_SIZE:\n",
        "    print(\"Problem size: \", prob_size)\n",
        "    for density in DENSITY:\n",
        "        print(\"Density: \", density)\n",
        "        SETS = make_set_covering_problem(prob_size, prob_size, density).toarray()\n",
        "        State = namedtuple('State', ['taken', 'not_taken'])\n",
        "        current_state = [choice([False, False, False, False, False, False]) for _ in range(prob_size)]\n",
        "        tot = hill_climbing(current_state, prob_size, SETS)\n",
        "        print(f\"At step {tot[1]} with {tot[0]} iterations of fitness function, the fitness of best solution is {tot[2]}\")"
      ],
      "metadata": {
        "colab": {
          "base_uri": "https://localhost:8080/"
        },
        "id": "fVYt-Ln0io1Q",
        "outputId": "1963262a-4726-4a49-952e-f572b37c371a"
      },
      "execution_count": 5,
      "outputs": [
        {
          "output_type": "stream",
          "name": "stdout",
          "text": [
            "Problem size:  100\n",
            "Density:  0.3\n",
            "At step 7 with 701 iterations of fitness function, the fitness of best solution is 100\n",
            "Density:  0.7\n",
            "At step 4 with 401 iterations of fitness function, the fitness of best solution is 100\n",
            "Problem size:  1000\n",
            "Density:  0.3\n",
            "At step 11 with 11001 iterations of fitness function, the fitness of best solution is 1000\n",
            "Density:  0.7\n",
            "At step 5 with 5001 iterations of fitness function, the fitness of best solution is 1000\n",
            "Problem size:  5000\n",
            "Density:  0.3\n",
            "At step 15 with 75001 iterations of fitness function, the fitness of best solution is 5000\n",
            "Density:  0.7\n",
            "At step 6 with 30001 iterations of fitness function, the fitness of best solution is 5000\n"
          ]
        }
      ]
    },
    {
      "cell_type": "markdown",
      "source": [
        "# TABU' SEARCH"
      ],
      "metadata": {
        "id": "4XkGULHhiqtH"
      }
    },
    {
      "cell_type": "code",
      "source": [
        "from queue import PriorityQueue\n",
        "def tabu_search(current_state, prob_size, SETS, tabu_list_size):\n",
        "    best_solution = current_state\n",
        "    best_valid, best_cost = fitness(best_solution, prob_size, SETS)\n",
        "    evaluations = 1\n",
        "    step = 0\n",
        "    tabu_list = PriorityQueue()\n",
        "\n",
        "    while True:\n",
        "        step += 1\n",
        "        neighbors = [tweak(best_solution, prob_size) for _ in range(prob_size)]\n",
        "        found_better = False\n",
        "\n",
        "        for neighbor in neighbors:\n",
        "            neighbor_valid, neighbor_cost = fitness(neighbor, prob_size, SETS)\n",
        "\n",
        "            if neighbor not in tabu_list.queue and (neighbor_valid > best_valid or (neighbor_valid == best_valid and neighbor_cost > best_cost)):\n",
        "                best_solution = neighbor\n",
        "                best_valid = neighbor_valid\n",
        "                best_cost = neighbor_cost\n",
        "                found_better = True\n",
        "\n",
        "            evaluations += 1\n",
        "\n",
        "            tabu_list.put((neighbor_cost, neighbor))\n",
        "\n",
        "            if len(tabu_list.queue) > tabu_list_size:\n",
        "                tabu_list.get()\n",
        "\n",
        "        if not found_better:\n",
        "            break\n",
        "\n",
        "    return evaluations, step, best_valid, best_cost\n"
      ],
      "metadata": {
        "id": "AMI8S_U_5Jjo"
      },
      "execution_count": 18,
      "outputs": []
    },
    {
      "cell_type": "markdown",
      "source": [
        "when using the tabu search algorithm for the ste covering problem, you can do the following steps:\n",
        "\n",
        "1.   initialize the the best solution as the current state\n",
        "2.   call the fitness function for the current state and compute the costs\n",
        "3.   construct the neighbors using the tweak function\n",
        "4.   compute the fitness function for each neighbor\n",
        "5.   if the algorithm finds a neighbor solution better than the current one, then add it to the tabu list, which is ordered by cost, and update the solution\n",
        "6. finally, return the best solution and the best cost, i.e., the solution with higher cost\n",
        "7.   compute the number of evaluations and the number of steps increasing the respective counter at each iteration"
      ],
      "metadata": {
        "id": "dEcN8G4m4HjR"
      }
    },
    {
      "cell_type": "code",
      "source": [
        "PROBLEM_SIZE = [100, 1_000, 5_000]\n",
        "NUM_SETS = [100, 1_000, 5_000]\n",
        "DENSITY = [.3, .7]\n",
        "\n",
        "for prob_size in PROBLEM_SIZE:\n",
        "    print(\"Problem size: \", prob_size)\n",
        "    for density in DENSITY:\n",
        "        print(\"Density: \", density)\n",
        "        SETS = make_set_covering_problem(prob_size, prob_size, density).toarray()\n",
        "        State = namedtuple('State', ['taken', 'not_taken'])\n",
        "        current_state = [choice([False, False, False, False, False, False]) for _ in range(prob_size)]\n",
        "        tot = tabu_search(current_state, prob_size, SETS, 500)\n",
        "        print(f\"At step {tot[1]} with {tot[0]} iterations of fitness function, the fitness of best solution is {tot[2]}\")"
      ],
      "metadata": {
        "colab": {
          "base_uri": "https://localhost:8080/"
        },
        "id": "q7SmXNqBkCj6",
        "outputId": "28defd39-7790-4bc2-a93d-03ad64de4d99"
      },
      "execution_count": 19,
      "outputs": [
        {
          "output_type": "stream",
          "name": "stdout",
          "text": [
            "Problem size:  100\n",
            "Density:  0.3\n",
            "At step 7 with 701 iterations of fitness function, the fitness of best solution is 100\n",
            "Density:  0.7\n",
            "At step 4 with 401 iterations of fitness function, the fitness of best solution is 100\n",
            "Problem size:  1000\n",
            "Density:  0.3\n",
            "At step 11 with 11001 iterations of fitness function, the fitness of best solution is 1000\n",
            "Density:  0.7\n",
            "At step 5 with 5001 iterations of fitness function, the fitness of best solution is 1000\n",
            "Problem size:  5000\n",
            "Density:  0.3\n",
            "At step 15 with 75001 iterations of fitness function, the fitness of best solution is 5000\n",
            "Density:  0.7\n",
            "At step 6 with 30001 iterations of fitness function, the fitness of best solution is 5000\n"
          ]
        }
      ]
    },
    {
      "cell_type": "markdown",
      "source": [
        "# SIMULATED ANNEALING"
      ],
      "metadata": {
        "id": "fqv6WXwikvuT"
      }
    },
    {
      "cell_type": "code",
      "source": [
        "def simulated_annealing(current_state, prob_size, SETS, initial_temperature, cooling_rate):\n",
        "    current_solution = current_state\n",
        "    best_solution = current_solution\n",
        "    current_valid, current_cost = fitness(current_solution, prob_size, SETS)\n",
        "    best_valid, best_cost = current_valid, current_cost\n",
        "    evaluations = 1\n",
        "    step = 0\n",
        "\n",
        "\n",
        "    while initial_temperature > 0.0000001:\n",
        "        step += 1\n",
        "        neighbor_solution = tweak(current_solution, prob_size)\n",
        "        neighbor_valid, neighbor_cost = fitness(neighbor_solution, prob_size, SETS)\n",
        "\n",
        "        delta_valid = neighbor_valid - current_valid\n",
        "        delta_cost = neighbor_cost - current_cost\n",
        "\n",
        "        if delta_valid > 0 or (delta_valid == 0 and delta_cost > 0) or (random() < np.exp((delta_valid + delta_cost) / initial_temperature)):\n",
        "            current_solution = neighbor_solution\n",
        "            current_valid = neighbor_valid\n",
        "            current_cost = neighbor_cost\n",
        "\n",
        "        evaluations += 1\n",
        "\n",
        "        initial_temperature -= cooling_rate\n",
        "\n",
        "    return evaluations, step, best_valid, best_cost\n"
      ],
      "metadata": {
        "id": "VKavX9_3kyK7"
      },
      "execution_count": 22,
      "outputs": []
    },
    {
      "cell_type": "markdown",
      "source": [
        "when using simulated annealing for set covering problem, you can do the following steps:\n",
        "\n",
        "1.   initialize the the best solution as the current state\n",
        "2.   call the fitness function for the current state and compute the costs\n",
        "3.   construct the neighbors using the tweak function\n",
        "4.   compute the fitness function for each neighbor\n",
        "5.   to check if the new solution is better than the current one, compute the difference between the two fitness values and the two costs\n",
        "6.   if these difference are positive or a random generated number is less than the worst solution, then the new solution is better than the current one so you can update it\n",
        "7.   each iteration is given by the updating rate, so for each iteration two counters take note of the number of evaluations and the number of steps\n"
      ],
      "metadata": {
        "id": "EMIyOEx465LD"
      }
    },
    {
      "cell_type": "code",
      "source": [
        "PROBLEM_SIZE = [100, 1_000, 5_000]\n",
        "NUM_SETS = [100, 1_000, 5_000]\n",
        "DENSITY = [.3, .7]\n",
        "\n",
        "for prob_size in PROBLEM_SIZE:\n",
        "    print(\"Problem size: \", prob_size)\n",
        "    for density in DENSITY:\n",
        "        print(\"Density: \", density)\n",
        "        SETS = make_set_covering_problem(prob_size, prob_size, density).toarray()\n",
        "        State = namedtuple('State', ['taken', 'not_taken'])\n",
        "        current_state = [choice([False, False, False, False, False, False]) for _ in range(prob_size)]\n",
        "        tot = simulated_annealing(current_state, prob_size, SETS, 10, 0.01)\n",
        "        print(f\"At step {tot[1]} with {tot[0]} iterations of fitness function, the fitness of best solution is {tot[2]}\")"
      ],
      "metadata": {
        "colab": {
          "base_uri": "https://localhost:8080/"
        },
        "id": "mbCmAmiakzu6",
        "outputId": "af628ea4-15a2-4d54-b3b0-277dcb3eb6d7"
      },
      "execution_count": 23,
      "outputs": [
        {
          "output_type": "stream",
          "name": "stdout",
          "text": [
            "Problem size:  100\n",
            "Density:  0.3\n",
            "At step 1000 with 1001 iterations of fitness function, the fitness of best solution is 0\n",
            "Density:  0.7\n",
            "At step 1000 with 1001 iterations of fitness function, the fitness of best solution is 0\n",
            "Problem size:  1000\n",
            "Density:  0.3\n",
            "At step 1000 with 1001 iterations of fitness function, the fitness of best solution is 0\n",
            "Density:  0.7\n",
            "At step 1000 with 1001 iterations of fitness function, the fitness of best solution is 0\n",
            "Problem size:  5000\n",
            "Density:  0.3\n",
            "At step 1000 with 1001 iterations of fitness function, the fitness of best solution is 0\n",
            "Density:  0.7\n",
            "At step 1000 with 1001 iterations of fitness function, the fitness of best solution is 0\n"
          ]
        }
      ]
    }
  ]
}