{
  "nbformat": 4,
  "nbformat_minor": 0,
  "metadata": {
    "colab": {
      "provenance": []
    },
    "kernelspec": {
      "name": "python3",
      "display_name": "Python 3"
    },
    "language_info": {
      "name": "python"
    }
  },
  "cells": [
    {
      "cell_type": "markdown",
      "source": [
        "# game.py"
      ],
      "metadata": {
        "id": "avvY0TywzpgD"
      }
    },
    {
      "cell_type": "code",
      "execution_count": 1,
      "metadata": {
        "id": "Qh-KMmQJznCz"
      },
      "outputs": [],
      "source": [
        "from abc import ABC, abstractmethod\n",
        "from copy import deepcopy\n",
        "from enum import Enum\n",
        "import random\n",
        "import numpy as np\n",
        "\n",
        "\n",
        "class Move(Enum):\n",
        "    '''\n",
        "    Selects where you want to place the taken piece. The rest of the pieces are shifted\n",
        "    '''\n",
        "\n",
        "    TOP = 0\n",
        "    BOTTOM = 1\n",
        "    LEFT = 2\n",
        "    RIGHT = 3\n",
        "\n",
        "\n",
        "class Player(ABC):\n",
        "    def __init__(self) -> None:\n",
        "        '''You can change this for your player if you need to handle state/have memory'''\n",
        "        pass\n",
        "\n",
        "    @abstractmethod\n",
        "    def make_move(self, game: 'Game') -> tuple[tuple[int, int], Move]:\n",
        "\n",
        "        '''\n",
        "        The game accepts coordinates of the type (X, Y). X goes from left to right, while Y goes from top to bottom, as in 2D graphics.\n",
        "        Thus, the coordinates that this method returns shall be in the (X, Y) format.\n",
        "\n",
        "        game: the Quixo game. You can use it to override the current game with yours, but everything is evaluated by the main game\n",
        "        return values: this method shall return a tuple of X,Y positions and a move among TOP, BOTTOM, LEFT and RIGHT\n",
        "        '''\n",
        "        pass\n",
        "\n",
        "\n",
        "class Game(object):\n",
        "    def __init__(self) -> None:\n",
        "        self._board = np.ones((5, 5), dtype=np.uint8) * -1\n",
        "        self.current_player_idx = 1\n",
        "\n",
        "    def get_board(self) -> np.ndarray:\n",
        "        '''\n",
        "        Returns the board\n",
        "        '''\n",
        "        return deepcopy(self._board)\n",
        "        # return self._board.copy()\n",
        "\n",
        "    def get_current_player(self) -> int:\n",
        "        '''\n",
        "        Returns the current player\n",
        "        '''\n",
        "        return deepcopy(self.current_player_idx)\n",
        "\n",
        "    def print(self):\n",
        "        '''Prints the board. -1 are neutral pieces, 0 are pieces of player 0, 1 pieces of player 1'''\n",
        "        print(self._board)\n",
        "\n",
        "    def clone(self):\n",
        "        new_game = Game()\n",
        "        # new_game._board = self._board.copy()\n",
        "        new_game._board = deepcopy(self._board)\n",
        "        new_game.current_player_idx = self.current_player_idx\n",
        "        return new_game\n",
        "\n",
        "    def check_winner(self) -> int:\n",
        "        '''Check the winner. Returns the player ID of the winner if any, otherwise returns -1'''\n",
        "        # for each row\n",
        "        for x in range(self._board.shape[0]):\n",
        "            # if a player has completed an entire row\n",
        "            if self._board[x, 0] != -1 and all(self._board[x, :] == self._board[x, 0]):\n",
        "                # return the relative id\n",
        "                return self._board[x, 0]\n",
        "        # for each column\n",
        "        for y in range(self._board.shape[1]):\n",
        "            # if a player has completed an entire column\n",
        "            if self._board[0, y] != -1 and all(self._board[:, y] == self._board[0, y]):\n",
        "                # return the relative id\n",
        "                return self._board[0, y]\n",
        "        # if a player has completed the principal diagonal\n",
        "        if self._board[0, 0] != -1 and all(\n",
        "            [self._board[x, x] for x in range(self._board.shape[0])] == self._board[0, 0]\n",
        "        ):\n",
        "            # return the relative id\n",
        "            return self._board[0, 0]\n",
        "        # if a player has completed the secondary diagonal\n",
        "        if self._board[0, -1] != -1 and all(\n",
        "            [self._board[x, -(x + 1)] for x in range(self._board.shape[0])] == self._board[0, -1]\n",
        "        ):\n",
        "            # return the relative id\n",
        "            return self._board[0, -1]\n",
        "        return -1\n",
        "\n",
        "    def play(self, player1: Player, player2: Player) -> int:\n",
        "        '''Play the game. Returns the winning player'''\n",
        "        players = [player1, player2]\n",
        "        winner = -1\n",
        "        while winner < 0:\n",
        "            self.current_player_idx += 1\n",
        "            self.current_player_idx %= len(players)\n",
        "            ok = False\n",
        "            while not ok:\n",
        "                from_pos, slide = players[self.current_player_idx].make_move(self)\n",
        "                ok = self.move(from_pos, slide, self.current_player_idx)\n",
        "            winner = self.check_winner()\n",
        "        return winner\n",
        "\n",
        "    def move(self, from_pos: tuple[int, int], slide: Move, player_id: int) -> bool:\n",
        "        '''Perform a move'''\n",
        "        if player_id > 2:\n",
        "            return False\n",
        "\n",
        "        prev_value = deepcopy(self._board[(from_pos[1], from_pos[0])])\n",
        "        acceptable = self.__take((from_pos[1], from_pos[0]), player_id)\n",
        "        if acceptable:\n",
        "            acceptable = self.__slide((from_pos[1], from_pos[0]), slide)\n",
        "            if not acceptable:\n",
        "                self._board[(from_pos[1], from_pos[0])] = deepcopy(prev_value)\n",
        "        return acceptable\n",
        "\n",
        "    def __take(self, from_pos: tuple[int, int], player_id: int) -> bool:\n",
        "        '''Take piece'''\n",
        "        # acceptable only if in border\n",
        "        acceptable: bool = (\n",
        "            # check if it is in the first row\n",
        "            (from_pos[0] == 0 and from_pos[1] < 5)\n",
        "            # check if it is in the last row\n",
        "            or (from_pos[0] == 4 and from_pos[1] < 5)\n",
        "            # check if it is in the first column\n",
        "            or (from_pos[1] == 0 and from_pos[0] < 5)\n",
        "            # check if it is in the last column\n",
        "            or (from_pos[1] == 4 and from_pos[0] < 5)\n",
        "            # and check if the piece can be moved by the current player\n",
        "        ) and (self._board[from_pos] < 0 or self._board[from_pos] == player_id)\n",
        "        if acceptable:\n",
        "            self._board[from_pos] = player_id\n",
        "        return acceptable\n",
        "\n",
        "    def __slide(self, from_pos: tuple[int, int], slide: Move) -> bool:\n",
        "        '''Slide the other pieces'''\n",
        "        # define the corners\n",
        "        SIDES = [(0, 0), (0, 4), (4, 0), (4, 4)]\n",
        "        # if the piece position is not in a corner\n",
        "        if from_pos not in SIDES:\n",
        "            # if it is at the TOP, it can be moved down, left or right\n",
        "            acceptable_top: bool = from_pos[0] == 0 and (\n",
        "                slide == Move.BOTTOM or slide == Move.LEFT or slide == Move.RIGHT\n",
        "            )\n",
        "            # if it is at the BOTTOM, it can be moved up, left or right\n",
        "            acceptable_bottom: bool = from_pos[0] == 4 and (\n",
        "                slide == Move.TOP or slide == Move.LEFT or slide == Move.RIGHT\n",
        "            )\n",
        "            # if it is on the LEFT, it can be moved up, down or right\n",
        "            acceptable_left: bool = from_pos[1] == 0 and (\n",
        "                slide == Move.BOTTOM or slide == Move.TOP or slide == Move.RIGHT\n",
        "            )\n",
        "            # if it is on the RIGHT, it can be moved up, down or left\n",
        "            acceptable_right: bool = from_pos[1] == 4 and (\n",
        "                slide == Move.BOTTOM or slide == Move.TOP or slide == Move.LEFT\n",
        "            )\n",
        "        # if the piece position is in a corner\n",
        "        else:\n",
        "            # if it is in the upper left corner, it can be moved to the right and down\n",
        "            acceptable_top: bool = from_pos == (0, 0) and (slide == Move.BOTTOM or slide == Move.RIGHT)\n",
        "            # if it is in the lower left corner, it can be moved to the right and up\n",
        "            acceptable_left: bool = from_pos == (4, 0) and (slide == Move.TOP or slide == Move.RIGHT)\n",
        "            # if it is in the upper right corner, it can be moved to the left and down\n",
        "            acceptable_right: bool = from_pos == (0, 4) and (slide == Move.BOTTOM or slide == Move.LEFT)\n",
        "            # if it is in the lower right corner, it can be moved to the left and up\n",
        "            acceptable_bottom: bool = from_pos == (4, 4) and (slide == Move.TOP or slide == Move.LEFT)\n",
        "        # check if the move is acceptable\n",
        "        acceptable: bool = acceptable_top or acceptable_bottom or acceptable_left or acceptable_right\n",
        "        # if it is\n",
        "        if acceptable:\n",
        "            # take the piece\n",
        "            piece = self._board[from_pos]\n",
        "            # if the player wants to slide it to the left\n",
        "            if slide == Move.LEFT:\n",
        "                # for each column starting from the column of the piece and moving to the left\n",
        "                for i in range(from_pos[1], 0, -1):\n",
        "                    # copy the value contained in the same row and the previous column\n",
        "                    self._board[(from_pos[0], i)] = self._board[(from_pos[0], i - 1)]\n",
        "                # move the piece to the left\n",
        "                self._board[(from_pos[0], 0)] = piece\n",
        "            # if the player wants to slide it to the right\n",
        "            elif slide == Move.RIGHT:\n",
        "                # for each column starting from the column of the piece and moving to the right\n",
        "                for i in range(from_pos[1], self._board.shape[1] - 1, 1):\n",
        "                    # copy the value contained in the same row and the following column\n",
        "                    self._board[(from_pos[0], i)] = self._board[(from_pos[0], i + 1)]\n",
        "                # move the piece to the right\n",
        "                self._board[(from_pos[0], self._board.shape[1] - 1)] = piece\n",
        "            # if the player wants to slide it upward\n",
        "            elif slide == Move.TOP:\n",
        "                # for each row starting from the row of the piece and going upward\n",
        "                for i in range(from_pos[0], 0, -1):\n",
        "                    # copy the value contained in the same column and the previous row\n",
        "                    self._board[(i, from_pos[1])] = self._board[(i - 1, from_pos[1])]\n",
        "                # move the piece up\n",
        "                self._board[(0, from_pos[1])] = piece\n",
        "            # if the player wants to slide it downward\n",
        "            elif slide == Move.BOTTOM:\n",
        "                # for each row starting from the row of the piece and going downward\n",
        "                for i in range(from_pos[0], self._board.shape[0] - 1, 1):\n",
        "                    # copy the value contained in the same column and the following row\n",
        "                    self._board[(i, from_pos[1])] = self._board[(i + 1, from_pos[1])]\n",
        "                # move the piece down\n",
        "                self._board[(self._board.shape[0] - 1, from_pos[1])] = piece\n",
        "        return acceptable\n",
        "\n",
        "    def get_available_actions(self):\n",
        "        '''Return a list of all possible actions'''\n",
        "        board = self.get_board()\n",
        "        actions = []\n",
        "        size = board.shape[0]\n",
        "        for x in range(size):\n",
        "            for y in range(size):\n",
        "                if x == 0 or x == size - 1 or y == 0 or y == size - 1:\n",
        "                    if board[x, y] == -1 or board[x, y] == self.get_current_player():\n",
        "                        if x == 0:\n",
        "                            actions.append(((x, y), Move.BOTTOM))\n",
        "                        if x == size - 1:\n",
        "                            actions.append(((x, y), Move.TOP))\n",
        "                        if y == 0:\n",
        "                            actions.append(((x, y), Move.RIGHT))\n",
        "                        if y == size - 1:\n",
        "                            actions.append(((x, y), Move.LEFT))\n",
        "        return actions\n",
        "\n",
        "    def get_non_quiescent_actions(self):\n",
        "        '''Return a list of all possible non-quiescent actions as a subset of the available ones'''\n",
        "        board = self.get_board()\n",
        "        actions = []\n",
        "        size = board.shape[0]\n",
        "        for x in range(size):\n",
        "            for y in range(size):\n",
        "                if x == 0 or x == size - 1 or y == 0 or y == size - 1:\n",
        "                    if board[x, y] == -1 or board[x, y] == self.get_current_player():\n",
        "                        if x == 0:\n",
        "                            actions.append(((x, y), Move.BOTTOM))\n",
        "                        if x == size - 1:\n",
        "                            actions.append(((x, y), Move.TOP))\n",
        "                        if y == 0:\n",
        "                            actions.append(((x, y), Move.RIGHT))\n",
        "                        if y == size - 1:\n",
        "                            actions.append(((x, y), Move.LEFT))\n",
        "        non_quiescent_actions = []\n",
        "        for action in actions:\n",
        "            from_pos, slide = action\n",
        "            if self.__move_to_empty_square(from_pos, slide) or self.__block_opponent_winning_line(from_pos, slide) or self.__create_potential_winning_line(from_pos, slide):\n",
        "                non_quiescent_actions.append(action)\n",
        "        return non_quiescent_actions\n",
        "\n",
        "    def __move_to_empty_square(self, from_pos: tuple[int, int], slide: Move) -> bool:\n",
        "        '''Move a cube to an empty square on the board'''\n",
        "        to_pos = (from_pos[0], from_pos[1] - 1) if slide == Move.LEFT else (from_pos[0], from_pos[1] + 1) if slide == Move.RIGHT else (from_pos[0] - 1, from_pos[1]) if slide == Move.TOP else (from_pos[0] + 1, from_pos[1])\n",
        "        if self._board[to_pos] == -1:\n",
        "            self._board[to_pos] = self._board[from_pos]\n",
        "            self._board[from_pos] = -1\n",
        "            return True\n",
        "        return False\n",
        "\n",
        "    def __block_opponent_winning_line(self, from_pos: tuple[int, int], slide: Move) -> bool:\n",
        "        '''Move a cube to a square that blocks an opponent's potential winning line'''\n",
        "        to_pos = (from_pos[0], from_pos[1] - 1) if slide in [Move.LEFT, Move.RIGHT] else (from_pos[0], from_pos[1] + slide.value)\n",
        "        if 0 <= to_pos[0] < self._board.shape[0] and 0 <= to_pos[1] < self._board.shape[1]:\n",
        "            if self._board[to_pos] == ((self.get_current_player() + 1) % 2):\n",
        "                self._board[to_pos] = self._board[from_pos]\n",
        "                self._board[from_pos] = -1\n",
        "                return True\n",
        "        return False\n",
        "\n",
        "    def __create_potential_winning_line(self, from_pos: tuple[int, int], slide: Move) -> bool:\n",
        "        '''Move a cube to a square that creates a potential winning line for the player'''\n",
        "        to_pos = (from_pos[0], from_pos[1] - 1) if slide in [Move.LEFT, Move.RIGHT] else (from_pos[0], from_pos[1] + slide.value)\n",
        "        if 0 <= to_pos[0] < self._board.shape[0] and 0 <= to_pos[1] < self._board.shape[1]:\n",
        "            if self._board[to_pos] == -1:\n",
        "                self._board[to_pos] = self._board[from_pos]\n",
        "                self._board[from_pos] = -1\n",
        "                return True\n",
        "        return False"
      ]
    },
    {
      "cell_type": "markdown",
      "source": [
        "# heuristic.py"
      ],
      "metadata": {
        "id": "2ioPMgn0zvSI"
      }
    },
    {
      "cell_type": "code",
      "source": [
        "import random\n",
        "\n",
        "\n",
        "def heuristic(game: Game) -> int:\n",
        "\n",
        "    board = game.get_board()\n",
        "\n",
        "    score = 0\n",
        "\n",
        "    for x in range(board.shape[0]):\n",
        "        for y in range(board.shape[1]):\n",
        "            if board[x, y]!= -1:  # for each piece on the board\n",
        "                if board[x, y] == game.get_current_player():\n",
        "                    score += 1\n",
        "                else:\n",
        "                    score -= 1\n",
        "\n",
        "    for action in game.get_non_quiescent_actions():\n",
        "        from_pos, slide = action\n",
        "        to_pos = (from_pos[0], from_pos[1] - 1) if slide == Move.LEFT else (from_pos[0], from_pos[1] + 1) if slide == Move.RIGHT else (from_pos[0] - 1, from_pos[1]) if slide == Move.TOP else (from_pos[0] + 1, from_pos[1])\n",
        "        if 0 <= to_pos[0] < board.shape[0] and 0 <= to_pos[1] < board.shape[1] and board[to_pos] == -1:\n",
        "            score += 1\n",
        "        elif 0 <= to_pos[0] < board.shape[0] and 0 <= to_pos[1] < board.shape[1] and board[to_pos] == ((game.get_current_player() + 1) % 2):\n",
        "            score -= 1\n",
        "        # The score is increased by 1 for each potential winning line that the current player can create, and decreased by 1 for each potential winning line that the opponent can create.\n",
        "    return score\n"
      ],
      "metadata": {
        "id": "fV1dzUqRzxgK"
      },
      "execution_count": 2,
      "outputs": []
    },
    {
      "cell_type": "markdown",
      "source": [
        "# RandomPlayer"
      ],
      "metadata": {
        "id": "6pNq9iS4z1Id"
      }
    },
    {
      "cell_type": "code",
      "source": [
        "class RandomPlayer(Player):\n",
        "    def __init__(self,player_symbol):\n",
        "        super().__init__()\n",
        "        self.player_symbol=player_symbol\n",
        "\n",
        "    def make_move(self, game: \"Game\") -> tuple[tuple[int, int], Move]:\n",
        "        from_pos = (random.randint(0, 4), random.randint(0, 4))\n",
        "        move = random.choice([Move.TOP, Move.BOTTOM, Move.LEFT, Move.RIGHT])\n",
        "        return from_pos, move"
      ],
      "metadata": {
        "id": "xWzAHr-bz0iy"
      },
      "execution_count": 3,
      "outputs": []
    },
    {
      "cell_type": "markdown",
      "source": [
        "# CleverRandomPlayer"
      ],
      "metadata": {
        "id": "TGf8zyZN0CEv"
      }
    },
    {
      "cell_type": "code",
      "source": [
        "class CleverRandomPlayer(Player):\n",
        "    def __init__(self,player_symbol):\n",
        "        super().__init__()\n",
        "        self.player_symbol=player_symbol\n",
        "\n",
        "    def make_move(self, game: 'Game') -> tuple[tuple[int, int], Move]:\n",
        "        valid_move = False\n",
        "        while not valid_move:\n",
        "            from_pos = (random.randint(0, 4), random.randint(0, 4))\n",
        "            move = random.choice([Move.TOP, Move.BOTTOM, Move.LEFT, Move.RIGHT])\n",
        "            valid_move = game.move(from_pos, move, self.player_symbol)\n",
        "        return from_pos, move"
      ],
      "metadata": {
        "id": "Rt8XcLIJz-8z"
      },
      "execution_count": 4,
      "outputs": []
    },
    {
      "cell_type": "markdown",
      "source": [
        "MinimaxPlayer"
      ],
      "metadata": {
        "id": "4K7xPiQr0FOh"
      }
    },
    {
      "cell_type": "code",
      "source": [
        "import typing\n",
        "\n",
        "\n",
        "class MinimaxPlayer(Player):\n",
        "    # NB: a depth of -1 indicates that search will continue until terminal state or quiet\n",
        "    def __init__(self, player_symbol, heuristic: typing.Callable[[Game], int], max_depth: int = -1, quiescence_max_depth: int = -1):\n",
        "                    # the input of heuristic function is the State, the output is an int\n",
        "        super().__init__()\n",
        "        self.player_symbol = player_symbol\n",
        "        self.heuristic = heuristic\n",
        "        self.max_depth = max_depth\n",
        "        self.quiescence_max_depth = quiescence_max_depth\n",
        "\n",
        "    def minimax(self, current_state: Game, depth: int, max_node: bool) -> int:\n",
        "\n",
        "        if current_state.check_winner != -1 or depth is self.max_depth:\n",
        "            return self.heuristic(current_state)\n",
        "\n",
        "        elif max_node:\n",
        "            best_val = -100000\n",
        "            actions = current_state.get_available_actions()\n",
        "            for action in actions:\n",
        "                current_state.move(action[0], action[1], self.player_symbol)\n",
        "                value = self.minimax(current_state, depth + 1, False)\n",
        "                best_val = max(best_val, value)\n",
        "            return best_val\n",
        "\n",
        "        else:\n",
        "            best_val = 100000\n",
        "            actions = current_state.get_available_actions()\n",
        "            for action in actions:\n",
        "                current_state.move(action[0], action[1], self.player_symbol)\n",
        "                value = self.minimax(current_state, depth + 1, True)\n",
        "                best_val = min(best_val, value)\n",
        "            return best_val\n",
        "\n",
        "    def alpha_beta_solve(self, current_state: Game, depth: int, max_node: bool, alpha: int, beta: int) -> int:\n",
        "        if current_state.check_winner()!= -1:\n",
        "            return self.heuristic(current_state)\n",
        "        elif depth is self.max_depth:\n",
        "            return self.quiescence_search(current_state, 5, max_node, alpha, beta)\n",
        "\n",
        "        elif max_node:\n",
        "            best_val = -100000\n",
        "            actions = current_state.get_available_actions()\n",
        "            for action in actions:\n",
        "                current_state.move(action[0], action[1], self.player_symbol)\n",
        "                value = self.alpha_beta_solve(current_state, depth + 1, False, alpha, beta)\n",
        "                best_val = max(best_val, value)\n",
        "                if best_val >= beta:\n",
        "                    return best_val\n",
        "                alpha = max(best_val, alpha)\n",
        "                if alpha >= beta:\n",
        "                    break\n",
        "            return best_val\n",
        "\n",
        "        else:\n",
        "            best_val = 100000\n",
        "            actions = current_state.get_available_actions()\n",
        "            for action in actions:\n",
        "                current_state.move(action[0], action[1], self.player_symbol)\n",
        "                value = self.alpha_beta_solve(current_state, depth + 1, True, alpha, beta)\n",
        "                best_val = min(best_val, value)\n",
        "                if best_val <= alpha:\n",
        "                    return best_val\n",
        "                beta = min(best_val, beta)\n",
        "                if alpha >= beta:\n",
        "                    break\n",
        "            return best_val\n",
        "\n",
        "    def quiescence_search(self, current_state: Game, depth: int, max_node: bool, alpha: int, beta: int) -> int:\n",
        "        if current_state.check_winner()!= -1 or depth is self.quiescence_max_depth:\n",
        "            return self.heuristic(current_state)\n",
        "        non_quiescent_actions = current_state.get_non_quiescent_actions()\n",
        "\n",
        "        if not non_quiescent_actions:\n",
        "            # quiet state\n",
        "            return self.heuristic(current_state)\n",
        "\n",
        "        elif max_node:\n",
        "            best_val = -100000\n",
        "            stand_pat = self.heuristic(current_state)\n",
        "            if stand_pat >= beta:\n",
        "                return stand_pat\n",
        "            if alpha < stand_pat:\n",
        "                alpha = stand_pat\n",
        "\n",
        "            for action in non_quiescent_actions:\n",
        "                current_state.move(action[0], action[1], self.player_symbol)\n",
        "                value = self.quiescence_search(current_state, depth + 1, False, alpha, beta)\n",
        "                best_val = max(best_val, value)\n",
        "                if best_val >= beta:\n",
        "                    return best_val\n",
        "                alpha = max(best_val, alpha)\n",
        "            return best_val\n",
        "\n",
        "        else:\n",
        "            stand_pat = self.heuristic(current_state)\n",
        "            if stand_pat <= alpha:\n",
        "                return stand_pat\n",
        "            if stand_pat < beta:\n",
        "                beta = stand_pat\n",
        "\n",
        "            best_val = 100000\n",
        "            for action in non_quiescent_actions:\n",
        "                current_state.move(action[0], action[1], self.player_symbol)\n",
        "                value = self.quiescence_search(current_state, depth + 1, True, alpha, beta)\n",
        "                best_val = min(best_val, value)\n",
        "                if best_val <= alpha:\n",
        "                    return best_val\n",
        "                beta = min(best_val, beta)\n",
        "            return best_val\n",
        "\n",
        "    def make_move(self, game) -> tuple[tuple[int, int], Move]:\n",
        "        action = self.choose_action(game, False)\n",
        "        return action\n",
        "\n",
        "    def choose_action(self, current_state: Game, maximizing_player: bool) -> Move:\n",
        "        if maximizing_player:\n",
        "            def func(x, y):\n",
        "                return x > y\n",
        "        else:\n",
        "            def func(x, y):\n",
        "                return x < y\n",
        "\n",
        "        actions = current_state.get_available_actions()\n",
        "        assert (actions is not None)\n",
        "\n",
        "        best_value = -1000000 if maximizing_player else 1000000\n",
        "\n",
        "        for action in actions:\n",
        "            current_state.move(action[0], action[1], self.player_symbol)\n",
        "            # action_value = self.alpha_beta_solve(current_state, 1, False, -10000000, 10000000)\n",
        "            action_value = self.minimax(current_state, 1, not maximizing_player)\n",
        "\n",
        "            if func(action_value, best_value):\n",
        "                best_value = action_value\n",
        "                best_action = action\n",
        "        return best_action"
      ],
      "metadata": {
        "id": "D_V5SIwp0Gm1"
      },
      "execution_count": 5,
      "outputs": []
    },
    {
      "cell_type": "markdown",
      "source": [
        "#QLearningPlayer"
      ],
      "metadata": {
        "id": "7HZeNs6p0LMa"
      }
    },
    {
      "cell_type": "code",
      "source": [
        "import numpy as np\n",
        "from collections import defaultdict, deque\n",
        "import pickle\n",
        "\n",
        "class QLearningPlayer(Player):\n",
        "    def __init__(self, player_symbol, epsilon, epsilon_decay, epsilon_min, alpha, gamma, replay_buffer_size=10000):\n",
        "        super().__init__()\n",
        "        self.player_symbol = player_symbol\n",
        "        self.q_values = {}\n",
        "        self.epsilon = epsilon\n",
        "        self.epsilon_decay = epsilon_decay\n",
        "        self.epsilon_min = epsilon_min\n",
        "        self.alpha = alpha\n",
        "        self.gamma = gamma\n",
        "        self.replay_buffer = deque(maxlen=replay_buffer_size)\n",
        "\n",
        "    def do_it_random(self, game):\n",
        "        state_key = tuple(map(tuple, game.get_board()))\n",
        "        available_actions = self.get_available_actions(game.get_board())\n",
        "        action = random.choice(available_actions)\n",
        "        self.q_values[(state_key, action)] = self.epsilon\n",
        "        return action\n",
        "\n",
        "    def get_q_value(self, state, action):\n",
        "        state_key = tuple(map(tuple, state))\n",
        "        return self.q_values.get((state_key, action), 0.0)\n",
        "\n",
        "    def make_move(self, game):\n",
        "        state_key = tuple(map(tuple, game.get_board()))\n",
        "        available_actions = self.get_available_actions(game.get_board())\n",
        "\n",
        "        if random.random() <= self.epsilon:\n",
        "            best_move = self.do_it_random(game)\n",
        "        else:\n",
        "            q_values = [self.get_q_value(state_key, action) for action in available_actions]\n",
        "            max_q_value = max(q_values)\n",
        "            best_moves = [action for action, q_value in zip(available_actions, q_values) if q_value == max_q_value]\n",
        "\n",
        "            if not best_moves:\n",
        "                best_move = random.choice(available_actions)\n",
        "            else:\n",
        "                best_move = random.choice(best_moves)\n",
        "\n",
        "        return best_move\n",
        "\n",
        "    def update_q_value(self, state, action, reward, next_state):\n",
        "        state_key = tuple(map(tuple, state))\n",
        "        next_state_key = tuple(map(tuple, next_state))\n",
        "        next_max_q = max([self.get_q_value(next_state_key, next_action) for next_action in self.get_available_actions(next_state)], default=0.0)\n",
        "        self.q_values[(state_key, action)] = (1 - self.alpha) * self.get_q_value(state_key, action) + self.alpha * (reward + self.gamma * next_max_q)\n",
        "\n",
        "    def get_available_actions(self, board):\n",
        "        actions = []\n",
        "        size = board.shape[0]\n",
        "        for x in range(size):\n",
        "            for y in range(size):\n",
        "                if x == 0 or x == size - 1 or y == 0 or y == size - 1:\n",
        "                    if board[x, y] == -1 or board[x, y] == self.player_symbol:\n",
        "                        if x == 0:\n",
        "                            actions.append(((x, y), Move.BOTTOM))\n",
        "                        if x == size - 1:\n",
        "                            actions.append(((x, y), Move.TOP))\n",
        "                        if y == 0:\n",
        "                            actions.append(((x, y), Move.RIGHT))\n",
        "                        if y == size - 1:\n",
        "                            actions.append(((x, y), Move.LEFT))\n",
        "        return actions\n",
        "\n",
        "    def feed_reward(self, state, reward, action):\n",
        "        state_key = tuple(map(tuple, state))\n",
        "        if (state_key, action) in self.q_values:\n",
        "            self.q_values[(state_key, action)] += self.alpha * (reward + self.gamma * self.q_values[(state_key, action)] - self.q_values[(state_key, action)])\n",
        "            r = self.q_values[(state_key, action)]\n",
        "        else:\n",
        "            self.q_values[(state_key, action)] = -self.epsilon\n",
        "            r = -self.epsilon\n",
        "        return r\n",
        "\n",
        "    def save_q_table(self, file_path):\n",
        "        with open(file_path, 'wb') as file:\n",
        "            pickle.dump(self.q_values, file)\n",
        "\n",
        "    def load_q_table(self, file_path):\n",
        "        with open(file_path, 'rb') as file:\n",
        "            self.q_values = pickle.load(file)\n",
        "\n",
        "    def store_experience(self, state, action, reward, next_state):\n",
        "        self.replay_buffer.append((state, action, reward, next_state))\n",
        "\n",
        "    def replay_experiences(self, batch_size=64):\n",
        "        if len(self.replay_buffer) < batch_size:\n",
        "            return\n",
        "        batch = random.sample(self.replay_buffer, batch_size)\n",
        "        for state, action, reward, next_state in batch:\n",
        "            self.update_q_value(state, action, reward, next_state)"
      ],
      "metadata": {
        "id": "r2fgSMxO0OWR"
      },
      "execution_count": 6,
      "outputs": []
    },
    {
      "cell_type": "markdown",
      "source": [
        "# MonteCarloPlayer"
      ],
      "metadata": {
        "id": "8mI5sxUU0Nsx"
      }
    },
    {
      "cell_type": "code",
      "source": [
        "import math\n",
        "\n",
        "class MonteCarloPlayer(Player):\n",
        "    def __init__(self, player_symbol):\n",
        "        super().__init__()\n",
        "        self.player_symbol = player_symbol\n",
        "\n",
        "    # UCB = average_score + C * sqrt(ln(total_simulations) / simulations)\n",
        "    def make_move(self, game: 'Game') -> tuple[tuple[int, int], Move]:\n",
        "        num_simulations = 50\n",
        "        num_selected_moves = min(len(game.get_available_actions()), 40)\n",
        "        best_move = None\n",
        "        best_score = -1000000\n",
        "\n",
        "        total_simulations = sum(num_simulations for _ in game.get_available_actions())\n",
        "\n",
        "        for pos, slide in random.sample(game.get_available_actions(), num_selected_moves):\n",
        "            simulations = num_simulations\n",
        "            average_score = heuristic(game)\n",
        "            C = 1  # Trade-off between exploration and exploitation\n",
        "            ucb_score = average_score + C * math.sqrt(math.log(total_simulations) / simulations)\n",
        "\n",
        "            total_score = ucb_score\n",
        "            for _ in range(num_simulations):\n",
        "                # cloned_game = deepcopy(game)\n",
        "                cloned_game = game\n",
        "                cloned_game.move(pos, slide, game.get_current_player())\n",
        "\n",
        "                while cloned_game.check_winner() == -1:\n",
        "                    valid_move = False\n",
        "                    while not valid_move:\n",
        "                        from_pos = (random.randint(0, 4), random.randint(0, 4))\n",
        "                        move = random.choice([Move.TOP, Move.BOTTOM, Move.LEFT, Move.RIGHT])\n",
        "                        valid_move = game.move(from_pos, move, self.player_symbol)\n",
        "\n",
        "                if cloned_game.check_winner() == self.player_symbol:\n",
        "                    total_score += 1\n",
        "                else:\n",
        "                    total_score -= 1\n",
        "\n",
        "            if ucb_score > best_score:\n",
        "                best_score = ucb_score\n",
        "                best_move = (pos, slide)\n",
        "\n",
        "        return best_move\n",
        ""
      ],
      "metadata": {
        "id": "JSsavehv0ve7"
      },
      "execution_count": 15,
      "outputs": []
    },
    {
      "cell_type": "markdown",
      "source": [
        "# main.py"
      ],
      "metadata": {
        "id": "KfFyay6F1Qeg"
      }
    },
    {
      "cell_type": "code",
      "source": [
        "from collections import defaultdict\n",
        "import random\n",
        "import numpy as np\n",
        "from copy import deepcopy\n",
        "from tqdm import tqdm\n",
        "import pandas as pd\n",
        "import matplotlib.pyplot as plt\n",
        "import seaborn as sns\n",
        "\n",
        "def game(player1, player2):\n",
        "    quixo_game = Game()\n",
        "    winner = quixo_game.play(player1, player2)\n",
        "    return winner\n",
        "\n",
        "def give_reward(state, player1, player2, action, game):\n",
        "    if isinstance(player1, QLearningPlayer):\n",
        "        if game.check_winner() == player1.player_symbol:\n",
        "            fr = player1.feed_reward(state, 1, action)\n",
        "        elif game.check_winner() == player2.player_symbol:\n",
        "            fr = player1.feed_reward(state, -1, action)\n",
        "        else:\n",
        "            fr = player1.feed_reward(state, -0.01, action)\n",
        "    elif isinstance(player2, QLearningPlayer):\n",
        "        if game.check_winner() == player1.player_symbol:\n",
        "            fr = player2.feed_reward(state, -1, action)\n",
        "        elif game.check_winner() == player2.player_symbol:\n",
        "            fr = player2.feed_reward(state, 1, action)\n",
        "        else:\n",
        "            fr = player2.feed_reward(state, -0.01, action)\n",
        "    else:\n",
        "        fr = 0\n",
        "    return fr\n",
        "\n",
        "def train(player1, player2, matches, q_table_file):\n",
        "    wins = {player1: 0, player2: 0}\n",
        "\n",
        "    for _ in tqdm(range(matches), desc='Training Progress'):\n",
        "        quixo_game = Game()\n",
        "        trajectory = []\n",
        "        winner = -1\n",
        "\n",
        "        while winner < 0:\n",
        "            state = quixo_game.get_board()\n",
        "            current_player = quixo_game.get_current_player()\n",
        "            player = player1 if current_player == 1 else player2\n",
        "            action = player.make_move(quixo_game)\n",
        "            quixo_game.move(action[0], action[1], current_player)\n",
        "            trajectory.append((state, action))\n",
        "            winner = quixo_game.check_winner()\n",
        "\n",
        "            reward = give_reward(trajectory[-1][0], player1, player2, action, quixo_game)\n",
        "            for (state, action) in trajectory:\n",
        "                if isinstance(player1, QLearningPlayer):\n",
        "                    player1.update_q_value(state, action, reward, trajectory[-1][0])\n",
        "                elif isinstance(player2, QLearningPlayer):\n",
        "                    player2.update_q_value(state, action, reward, trajectory[-1][0])\n",
        "\n",
        "            quixo_game.current_player_idx = 1 if quixo_game.current_player_idx == 0 else 0\n",
        "\n",
        "        if winner == player1.player_symbol:\n",
        "            wins[player1] += 1\n",
        "        elif winner == player2.player_symbol:\n",
        "            wins[player2] += 1\n",
        "        player1.player_symbol, player2.player_symbol = player2.player_symbol, player1.player_symbol\n",
        "\n",
        "    win_percentage_player1 = (wins[player1] / matches) * 100\n",
        "    win_percentage_player2 = (wins[player2] / matches) * 100\n",
        "    print(f'Player 1 {player1.__class__.__name__} symbol {player1.player_symbol} win percentage: {win_percentage_player1}%')\n",
        "    print(f'Player 2 {player2.__class__.__name__} symbol {player2.player_symbol} win percentage: {win_percentage_player2}%')\n",
        "\n",
        "    if isinstance(player1, QLearningPlayer):\n",
        "        player1.save_q_table(q_table_file)\n",
        "    if isinstance(player2, QLearningPlayer):\n",
        "        player2.save_q_table(q_table_file)\n",
        "\n",
        "    return player1.__class__.__name__, player1.player_symbol, win_percentage_player1, player2.__class__.__name__, player2.player_symbol, win_percentage_player2\n",
        "\n",
        "def test(player1, player2, matches, q_table_file):\n",
        "    if isinstance(player1, QLearningPlayer) and q_table_file:\n",
        "        player1.load_q_table(q_table_file)\n",
        "    if isinstance(player2, QLearningPlayer) and q_table_file:\n",
        "        player2.load_q_table(q_table_file)\n",
        "\n",
        "    wins = {player1: 0, player2: 0}\n",
        "    for _ in tqdm(range(matches), desc='Testing Progress'):\n",
        "\n",
        "        quixo_game = Game()\n",
        "        winner = -1\n",
        "        while winner < 0:\n",
        "            state = quixo_game._board\n",
        "            current_player = quixo_game.get_current_player()\n",
        "            player = player1 if current_player == 1 else player2\n",
        "            action = player.make_move(quixo_game)\n",
        "            quixo_game.move(action[0], action[1], current_player)\n",
        "            winner = quixo_game.check_winner()\n",
        "            quixo_game.current_player_idx = 1 if quixo_game.current_player_idx == 0 else 0\n",
        "\n",
        "        if winner == player1.player_symbol:\n",
        "            wins[player1] += 1\n",
        "        elif winner == player2.player_symbol:\n",
        "            wins[player2] += 1\n",
        "\n",
        "    win_percentage_player1 = (wins[player1] / matches) * 100\n",
        "    win_percentage_player2 = (wins[player2] / matches) * 100\n",
        "    print(f'Player 1 {player1.__class__.__name__} symbol {player1.player_symbol} win percentage: {win_percentage_player1}%')\n",
        "    print(f'Player 2 {player2.__class__.__name__} symbol {player2.player_symbol} win percentage: {win_percentage_player2}%')\n",
        "    return player1.__class__.__name__, player1.player_symbol, win_percentage_player1, player2.__class__.__name__, player2.player_symbol, win_percentage_player2\n",
        "\n",
        "\n",
        "def play_game(player1, player2, matches):\n",
        "    wins = {player1: 0, player2: 0}\n",
        "    for _ in tqdm(range(matches), desc='Gaming Progress'):\n",
        "\n",
        "        quixo_game = Game()\n",
        "        winner = -1\n",
        "        while winner < 0:\n",
        "            state = quixo_game._board\n",
        "            current_player = quixo_game.get_current_player()\n",
        "            player = player1 if current_player == 1 else player2\n",
        "            action = player.make_move(quixo_game)\n",
        "            quixo_game.move(action[0], action[1], current_player)\n",
        "            winner = quixo_game.check_winner()\n",
        "            quixo_game.current_player_idx = 1 if quixo_game.current_player_idx == 0 else 0\n",
        "\n",
        "        if winner == player1.player_symbol:\n",
        "            wins[player1] += 1\n",
        "        elif winner == player2.player_symbol:\n",
        "            wins[player2] += 1\n",
        "\n",
        "    win_percentage_player1 = (wins[player1] / matches) * 100\n",
        "    win_percentage_player2 = (wins[player2] / matches) * 100\n",
        "    print(f'Player 1 {player1.__class__.__name__} symbol {player1.player_symbol} win percentage: {win_percentage_player1}%')\n",
        "    print(f'Player 2 {player2.__class__.__name__} symbol {player2.player_symbol} win percentage: {win_percentage_player2}%')\n",
        "    return player1.__class__.__name__, player1.player_symbol, win_percentage_player1, player2.__class__.__name__, player2.player_symbol, win_percentage_player2\n",
        "\n",
        "def plot(df):\n",
        "    plt.figure(figsize=(14, 6))\n",
        "    sns.set(style=\"whitegrid\")\n",
        "    barplot = sns.barplot(x='Player 1 Name', y='Player 1 Win Percentage', hue='Player 2 Name', data=df, palette='viridis')\n",
        "    plt.title('Player 1 Win Percentages During Training')\n",
        "    plt.ylim(0, 110)\n",
        "    plt.ylabel('Win Percentage (%)')\n",
        "    plt.xlabel('Player 1 Name (symbol 0)')\n",
        "    plt.legend(title='Player 2 Name (symbol 1)', loc='center left', bbox_to_anchor=(1, 0.5))\n",
        "    for p in barplot.patches:\n",
        "        if p.get_height() > 0:\n",
        "            barplot.annotate(format(p.get_height(), '.1f'),\n",
        "                            (p.get_x() + p.get_width() / 2., p.get_height()),\n",
        "                            ha = 'center', va = 'center',\n",
        "                            xytext = (0, 9),\n",
        "                            textcoords = 'offset points',\n",
        "                            fontsize=10, color='black')\n",
        "    plt.tight_layout()\n",
        "    plt.show()\n",
        "    plt.savefig(\"res.png\")\n",
        "\n",
        "def annotate_bars(bars):\n",
        "    for bar in bars:\n",
        "        height = bar.get_height()\n",
        "        plt.annotate('{}'.format(round(height, 2)),\n",
        "                     xy=(bar.get_x() + bar.get_width() / 2, height),\n",
        "                     xytext=(0, 3),\n",
        "                     textcoords=\"offset points\",\n",
        "                     ha='center', va='bottom')\n",
        "\n",
        "def plot_q(dftrain, dftest):\n",
        "    train_results = dftrain[dftrain['Player 1 Name'] == 'QLearningPlayer']\n",
        "    test_results = dftest[dftest['Player 1 Name'] == 'QLearningPlayer']\n",
        "\n",
        "    plot_data = {\n",
        "        'Opponent': ['Random Player', 'Clever Random Player', 'Minimax Player', 'MonteCarlo Player'],\n",
        "        'Train': list(train_results['Player 1 Win Percentage']),\n",
        "        'Test': list(test_results['Player 1 Win Percentage'])\n",
        "    }\n",
        "\n",
        "    plot_df = pd.DataFrame(plot_data)\n",
        "\n",
        "    plt.figure(figsize=(10, 6))\n",
        "    bar_width = 0.35\n",
        "    index = range(len(plot_df))\n",
        "\n",
        "    bars1 = plt.bar(index, plot_df['Train'], bar_width, label='Train')\n",
        "    bars2 = plt.bar([i + bar_width for i in index], plot_df['Test'], bar_width, label='Test')\n",
        "\n",
        "    plt.xlabel('Opponents')\n",
        "    plt.ylabel('Win Percentage (%)')\n",
        "    plt.title('QLearningPlayer (symbol 0) playing as 1st vs All Other Players')\n",
        "    plt.xticks([i + bar_width / 2 for i in index], plot_df['Opponent'])\n",
        "    plt.legend()\n",
        "\n",
        "    plt.yticks(np.arange(0, 101, 10))\n",
        "\n",
        "    annotate_bars(bars1)\n",
        "    annotate_bars(bars2)\n",
        "\n",
        "    plt.show()\n",
        "    plt.savefig(\"res_q.png\")\n",
        "\n",
        "def plot_q2(dftrain, dftest):\n",
        "    train_results = dftrain[dftrain['Player 2 Name'] == 'QLearningPlayer']\n",
        "    test_results = dftest[dftest['Player 2 Name'] == 'QLearningPlayer']\n",
        "\n",
        "    plot_data = {\n",
        "        'Opponent': ['Random Player', 'Clever Random Player', 'Minimax Player', 'MonteCarlo Player'],\n",
        "        'Train': list(train_results['Player 2 Win Percentage']),\n",
        "        'Test': list(test_results['Player 2 Win Percentage'])\n",
        "    }\n",
        "\n",
        "    plot_df = pd.DataFrame(plot_data)\n",
        "\n",
        "    plt.figure(figsize=(10, 6))\n",
        "    bar_width = 0.35\n",
        "    index = range(len(plot_df))\n",
        "\n",
        "    bars1 = plt.bar(index, plot_df['Train'], bar_width, label='Train')\n",
        "    bars2 = plt.bar([i + bar_width for i in index], plot_df['Test'], bar_width, label='Test')\n",
        "\n",
        "    plt.xlabel('Opponents')\n",
        "    plt.ylabel('Win Percentage (%)')\n",
        "    plt.title('QLearningPlayer (symbol 1) playing as 2nd vs All Other Players')\n",
        "    plt.xticks([i + bar_width / 2 for i in index], plot_df['Opponent'])\n",
        "    plt.legend()\n",
        "\n",
        "    plt.yticks(np.arange(0, 101, 10))\n",
        "\n",
        "    annotate_bars(bars1)\n",
        "    annotate_bars(bars2)\n",
        "\n",
        "    plt.show()\n",
        "    plt.savefig(\"res_q.png\")\n",
        "\n",
        "if __name__ == \"__main__\":\n",
        "    results = []\n",
        "    results2 = []\n",
        "    game_results = []\n",
        "    tresults = []\n",
        "    tresults2 = []\n",
        "    players1 = [RandomPlayer(player_symbol=0), CleverRandomPlayer(player_symbol=0), MinimaxPlayer(player_symbol=0, heuristic=heuristic), MonteCarloPlayer(player_symbol=0)]\n",
        "    players2 = [RandomPlayer(player_symbol=1), CleverRandomPlayer(player_symbol=1), MinimaxPlayer(player_symbol=1, heuristic=heuristic), MonteCarloPlayer(player_symbol=1)]\n",
        "\n",
        "    print(\"playing games ...\")\n",
        "    for player1_ in players1:\n",
        "        for player2_ in players2:\n",
        "            # if player1_.__class__.__name__ != player2_.__class__.__name__:\n",
        "                player1_name, player1_symbol, win_percentage_player1, player2_name, player2_symbol, win_percentage_player2 = play_game(player1_, player2_, matches=100)\n",
        "                game_results.append({\n",
        "                    'Player 1 Name': player1_name,\n",
        "                    'Player 1 Symbol': player1_symbol,\n",
        "                    'Player 1 Win Percentage': win_percentage_player1,\n",
        "                    'Player 2 Name': player2_name,\n",
        "                    'Player 2 Symbol': player2_symbol,\n",
        "                    'Player 2 Win Percentage': win_percentage_player2\n",
        "                })\n",
        "    df_res = pd.DataFrame(game_results)\n",
        "\n",
        "    print(\"\\n\")\n",
        "    player1 =  QLearningPlayer(player_symbol=0, epsilon=0.1, epsilon_decay=0.95, epsilon_min=0.01, alpha=0.2, gamma=0.9)\n",
        "    for player2 in players2:\n",
        "        if player1.__class__.__name__ != player2.__class__.__name__:\n",
        "            player1_name, player1_symbol, win_percentage_player1, player2_name, player2_symbol, win_percentage_player2 = train(player1, player2, matches=100, q_table_file='q_table.pkl')\n",
        "            test_player1_name, test_player1_symbol, test_win_percentage_player1, test_player2_name, test_player2_symbol, test_win_percentage_player2 = test(player1, player2, matches=50, q_table_file='q_table.pkl')\n",
        "            results.append({\n",
        "                'Player 1 Name': player1_name,\n",
        "                'Player 1 Symbol': player1_symbol,\n",
        "                'Player 1 Win Percentage': win_percentage_player1,\n",
        "                'Player 2 Name': player2_name,\n",
        "                'Player 2 Symbol': player2_symbol,\n",
        "                'Player 2 Win Percentage': win_percentage_player2\n",
        "            })\n",
        "            tresults.append({\n",
        "                'Player 1 Name': test_player1_name,\n",
        "                'Player 1 Symbol': test_player1_symbol,\n",
        "                'Player 1 Win Percentage': test_win_percentage_player1,\n",
        "                'Player 2 Name': test_player2_name,\n",
        "                'Player 2 Symbol': test_player2_symbol,\n",
        "                'Player 2 Win Percentage': test_win_percentage_player2\n",
        "            })\n",
        "\n",
        "    dftrain = pd.DataFrame(results)\n",
        "    dftest = pd.DataFrame(tresults)\n",
        "\n",
        "    print(\"\\n\")\n",
        "    player_2 =  QLearningPlayer(player_symbol=1, epsilon=0.1, epsilon_decay=0.95, epsilon_min=0.01, alpha=0.2, gamma=0.9)\n",
        "    for player_1 in players1:\n",
        "        if player1.__class__.__name__ != player2.__class__.__name__:\n",
        "            player1_name, player1_symbol, win_percentage_player1, player2_name, player2_symbol, win_percentage_player2 = train(player_1, player_2, matches=100, q_table_file='q2_table.pkl')\n",
        "            test_player1_name, test_player1_symbol, test_win_percentage_player1, test_player2_name, test_player2_symbol, test_win_percentage_player2 = test(player_1, player_2, matches=50, q_table_file='q2_table.pkl')\n",
        "            results2.append({\n",
        "                'Player 1 Name': player1_name,\n",
        "                'Player 1 Symbol': player1_symbol,\n",
        "                'Player 1 Win Percentage': win_percentage_player1,\n",
        "                'Player 2 Name': player2_name,\n",
        "                'Player 2 Symbol': player2_symbol,\n",
        "                'Player 2 Win Percentage': win_percentage_player2\n",
        "            })\n",
        "            tresults2.append({\n",
        "                'Player 1 Name': test_player1_name,\n",
        "                'Player 1 Symbol': test_player1_symbol,\n",
        "                'Player 1 Win Percentage': test_win_percentage_player1,\n",
        "                'Player 2 Name': test_player2_name,\n",
        "                'Player 2 Symbol': test_player2_symbol,\n",
        "                'Player 2 Win Percentage': test_win_percentage_player2\n",
        "            })\n",
        "\n",
        "    dftrain2 = pd.DataFrame(results2)\n",
        "    dftest2 = pd.DataFrame(tresults2)\n",
        "\n",
        "    plot(df_res)\n",
        "    plot_q(dftrain, dftest)\n",
        "    plot_q2(dftrain2, dftest2)\n"
      ],
      "metadata": {
        "colab": {
          "base_uri": "https://localhost:8080/",
          "height": 1000
        },
        "id": "blZnJgxk1SHB",
        "outputId": "4242a2de-7ae8-4a86-cb60-e42f14fa9bf1"
      },
      "execution_count": 16,
      "outputs": [
        {
          "metadata": {
            "tags": null
          },
          "name": "stdout",
          "output_type": "stream",
          "text": [
            "playing games ...\n"
          ]
        },
        {
          "metadata": {
            "tags": null
          },
          "name": "stderr",
          "output_type": "stream",
          "text": [
            "Gaming Progress: 100%|██████████| 100/100 [00:01<00:00, 96.61it/s]\n"
          ]
        },
        {
          "metadata": {
            "tags": null
          },
          "name": "stdout",
          "output_type": "stream",
          "text": [
            "Player 1 RandomPlayer symbol 0 win percentage: 48.0%\n",
            "Player 2 RandomPlayer symbol 1 win percentage: 52.0%\n"
          ]
        },
        {
          "metadata": {
            "tags": null
          },
          "name": "stderr",
          "output_type": "stream",
          "text": [
            "Gaming Progress: 100%|██████████| 100/100 [00:00<00:00, 202.13it/s]\n"
          ]
        },
        {
          "metadata": {
            "tags": null
          },
          "name": "stdout",
          "output_type": "stream",
          "text": [
            "Player 1 RandomPlayer symbol 0 win percentage: 22.0%\n",
            "Player 2 CleverRandomPlayer symbol 1 win percentage: 78.0%\n"
          ]
        },
        {
          "metadata": {
            "tags": null
          },
          "name": "stderr",
          "output_type": "stream",
          "text": [
            "Gaming Progress: 100%|██████████| 100/100 [00:02<00:00, 37.66it/s]\n"
          ]
        },
        {
          "metadata": {
            "tags": null
          },
          "name": "stdout",
          "output_type": "stream",
          "text": [
            "Player 1 RandomPlayer symbol 0 win percentage: 16.0%\n",
            "Player 2 MinimaxPlayer symbol 1 win percentage: 84.0%\n"
          ]
        },
        {
          "metadata": {
            "tags": null
          },
          "name": "stderr",
          "output_type": "stream",
          "text": [
            "Gaming Progress: 100%|██████████| 100/100 [00:08<00:00, 12.02it/s]\n"
          ]
        },
        {
          "metadata": {
            "tags": null
          },
          "name": "stdout",
          "output_type": "stream",
          "text": [
            "Player 1 RandomPlayer symbol 0 win percentage: 10.0%\n",
            "Player 2 MonteCarloPlayer symbol 1 win percentage: 90.0%\n"
          ]
        },
        {
          "metadata": {
            "tags": null
          },
          "name": "stderr",
          "output_type": "stream",
          "text": [
            "Gaming Progress: 100%|██████████| 100/100 [00:00<00:00, 240.94it/s]\n"
          ]
        },
        {
          "metadata": {
            "tags": null
          },
          "name": "stdout",
          "output_type": "stream",
          "text": [
            "Player 1 CleverRandomPlayer symbol 0 win percentage: 89.0%\n",
            "Player 2 RandomPlayer symbol 1 win percentage: 11.0%\n"
          ]
        },
        {
          "metadata": {
            "tags": null
          },
          "name": "stderr",
          "output_type": "stream",
          "text": [
            "Gaming Progress: 100%|██████████| 100/100 [00:00<00:00, 248.11it/s]\n"
          ]
        },
        {
          "metadata": {
            "tags": null
          },
          "name": "stdout",
          "output_type": "stream",
          "text": [
            "Player 1 CleverRandomPlayer symbol 0 win percentage: 57.99999999999999%\n",
            "Player 2 CleverRandomPlayer symbol 1 win percentage: 42.0%\n"
          ]
        },
        {
          "metadata": {
            "tags": null
          },
          "name": "stderr",
          "output_type": "stream",
          "text": [
            "Gaming Progress: 100%|██████████| 100/100 [00:01<00:00, 75.07it/s]\n"
          ]
        },
        {
          "metadata": {
            "tags": null
          },
          "name": "stdout",
          "output_type": "stream",
          "text": [
            "Player 1 CleverRandomPlayer symbol 0 win percentage: 14.000000000000002%\n",
            "Player 2 MinimaxPlayer symbol 1 win percentage: 86.0%\n"
          ]
        },
        {
          "metadata": {
            "tags": null
          },
          "name": "stderr",
          "output_type": "stream",
          "text": [
            "Gaming Progress: 100%|██████████| 100/100 [00:07<00:00, 13.06it/s]\n"
          ]
        },
        {
          "metadata": {
            "tags": null
          },
          "name": "stdout",
          "output_type": "stream",
          "text": [
            "Player 1 CleverRandomPlayer symbol 0 win percentage: 10.0%\n",
            "Player 2 MonteCarloPlayer symbol 1 win percentage: 90.0%\n"
          ]
        },
        {
          "metadata": {
            "tags": null
          },
          "name": "stderr",
          "output_type": "stream",
          "text": [
            "Gaming Progress: 100%|██████████| 100/100 [00:03<00:00, 29.45it/s]\n"
          ]
        },
        {
          "metadata": {
            "tags": null
          },
          "name": "stdout",
          "output_type": "stream",
          "text": [
            "Player 1 MinimaxPlayer symbol 0 win percentage: 74.0%\n",
            "Player 2 RandomPlayer symbol 1 win percentage: 26.0%\n"
          ]
        },
        {
          "metadata": {
            "tags": null
          },
          "name": "stderr",
          "output_type": "stream",
          "text": [
            "Gaming Progress: 100%|██████████| 100/100 [00:01<00:00, 91.30it/s]\n"
          ]
        },
        {
          "metadata": {
            "tags": null
          },
          "name": "stdout",
          "output_type": "stream",
          "text": [
            "Player 1 MinimaxPlayer symbol 0 win percentage: 94.0%\n",
            "Player 2 CleverRandomPlayer symbol 1 win percentage: 6.0%\n"
          ]
        },
        {
          "metadata": {
            "tags": null
          },
          "name": "stderr",
          "output_type": "stream",
          "text": [
            "Gaming Progress: 100%|██████████| 100/100 [00:01<00:00, 50.78it/s]\n"
          ]
        },
        {
          "metadata": {
            "tags": null
          },
          "name": "stdout",
          "output_type": "stream",
          "text": [
            "Player 1 MinimaxPlayer symbol 0 win percentage: 100.0%\n",
            "Player 2 MinimaxPlayer symbol 1 win percentage: 0.0%\n"
          ]
        },
        {
          "metadata": {
            "tags": null
          },
          "name": "stderr",
          "output_type": "stream",
          "text": [
            "Gaming Progress: 100%|██████████| 100/100 [00:07<00:00, 13.03it/s]\n"
          ]
        },
        {
          "metadata": {
            "tags": null
          },
          "name": "stdout",
          "output_type": "stream",
          "text": [
            "Player 1 MinimaxPlayer symbol 0 win percentage: 98.0%\n",
            "Player 2 MonteCarloPlayer symbol 1 win percentage: 2.0%\n"
          ]
        },
        {
          "metadata": {
            "tags": null
          },
          "name": "stderr",
          "output_type": "stream",
          "text": [
            "Gaming Progress: 100%|██████████| 100/100 [00:06<00:00, 14.67it/s]\n"
          ]
        },
        {
          "metadata": {
            "tags": null
          },
          "name": "stdout",
          "output_type": "stream",
          "text": [
            "Player 1 MonteCarloPlayer symbol 0 win percentage: 93.0%\n",
            "Player 2 RandomPlayer symbol 1 win percentage: 7.000000000000001%\n"
          ]
        },
        {
          "metadata": {
            "tags": null
          },
          "name": "stderr",
          "output_type": "stream",
          "text": [
            "Gaming Progress: 100%|██████████| 100/100 [00:08<00:00, 12.05it/s]\n"
          ]
        },
        {
          "metadata": {
            "tags": null
          },
          "name": "stdout",
          "output_type": "stream",
          "text": [
            "Player 1 MonteCarloPlayer symbol 0 win percentage: 94.0%\n",
            "Player 2 CleverRandomPlayer symbol 1 win percentage: 6.0%\n"
          ]
        },
        {
          "metadata": {
            "tags": null
          },
          "name": "stderr",
          "output_type": "stream",
          "text": [
            "Gaming Progress: 100%|██████████| 100/100 [00:07<00:00, 13.82it/s]\n"
          ]
        },
        {
          "metadata": {
            "tags": null
          },
          "name": "stdout",
          "output_type": "stream",
          "text": [
            "Player 1 MonteCarloPlayer symbol 0 win percentage: 96.0%\n",
            "Player 2 MinimaxPlayer symbol 1 win percentage: 4.0%\n"
          ]
        },
        {
          "metadata": {
            "tags": null
          },
          "name": "stderr",
          "output_type": "stream",
          "text": [
            "Gaming Progress: 100%|██████████| 100/100 [00:08<00:00, 11.21it/s]\n"
          ]
        },
        {
          "metadata": {
            "tags": null
          },
          "name": "stdout",
          "output_type": "stream",
          "text": [
            "Player 1 MonteCarloPlayer symbol 0 win percentage: 89.0%\n",
            "Player 2 MonteCarloPlayer symbol 1 win percentage: 11.0%\n",
            "\n",
            "\n"
          ]
        },
        {
          "output_type": "stream",
          "name": "stderr",
          "text": [
            "Training Progress: 100%|██████████| 100/100 [02:41<00:00,  1.61s/it]\n"
          ]
        },
        {
          "output_type": "stream",
          "name": "stdout",
          "text": [
            "Player 1 QLearningPlayer symbol 0 win percentage: 51.0%\n",
            "Player 2 RandomPlayer symbol 1 win percentage: 49.0%\n"
          ]
        },
        {
          "output_type": "stream",
          "name": "stderr",
          "text": [
            "Testing Progress: 100%|██████████| 50/50 [00:01<00:00, 32.73it/s]\n"
          ]
        },
        {
          "output_type": "stream",
          "name": "stdout",
          "text": [
            "Player 1 QLearningPlayer symbol 0 win percentage: 10.0%\n",
            "Player 2 RandomPlayer symbol 1 win percentage: 90.0%\n"
          ]
        },
        {
          "output_type": "stream",
          "name": "stderr",
          "text": [
            "Training Progress: 100%|██████████| 100/100 [00:10<00:00,  9.85it/s]\n"
          ]
        },
        {
          "output_type": "stream",
          "name": "stdout",
          "text": [
            "Player 1 QLearningPlayer symbol 0 win percentage: 6.0%\n",
            "Player 2 CleverRandomPlayer symbol 1 win percentage: 94.0%\n"
          ]
        },
        {
          "output_type": "stream",
          "name": "stderr",
          "text": [
            "Testing Progress: 100%|██████████| 50/50 [00:00<00:00, 79.38it/s]\n"
          ]
        },
        {
          "output_type": "stream",
          "name": "stdout",
          "text": [
            "Player 1 QLearningPlayer symbol 0 win percentage: 12.0%\n",
            "Player 2 CleverRandomPlayer symbol 1 win percentage: 88.0%\n"
          ]
        },
        {
          "output_type": "stream",
          "name": "stderr",
          "text": [
            "Training Progress: 100%|██████████| 100/100 [00:02<00:00, 43.64it/s]\n"
          ]
        },
        {
          "output_type": "stream",
          "name": "stdout",
          "text": [
            "Player 1 QLearningPlayer symbol 0 win percentage: 3.0%\n",
            "Player 2 MinimaxPlayer symbol 1 win percentage: 97.0%\n"
          ]
        },
        {
          "output_type": "stream",
          "name": "stderr",
          "text": [
            "Testing Progress: 100%|██████████| 50/50 [00:00<00:00, 80.40it/s]\n"
          ]
        },
        {
          "output_type": "stream",
          "name": "stdout",
          "text": [
            "Player 1 QLearningPlayer symbol 0 win percentage: 2.0%\n",
            "Player 2 MinimaxPlayer symbol 1 win percentage: 98.0%\n"
          ]
        },
        {
          "output_type": "stream",
          "name": "stderr",
          "text": [
            "Training Progress: 100%|██████████| 100/100 [00:05<00:00, 18.84it/s]\n"
          ]
        },
        {
          "output_type": "stream",
          "name": "stdout",
          "text": [
            "Player 1 QLearningPlayer symbol 0 win percentage: 6.0%\n",
            "Player 2 MonteCarloPlayer symbol 1 win percentage: 94.0%\n"
          ]
        },
        {
          "output_type": "stream",
          "name": "stderr",
          "text": [
            "Testing Progress: 100%|██████████| 50/50 [00:04<00:00, 10.58it/s]\n"
          ]
        },
        {
          "output_type": "stream",
          "name": "stdout",
          "text": [
            "Player 1 QLearningPlayer symbol 0 win percentage: 4.0%\n",
            "Player 2 MonteCarloPlayer symbol 1 win percentage: 96.0%\n",
            "\n",
            "\n"
          ]
        },
        {
          "output_type": "stream",
          "name": "stderr",
          "text": [
            "Training Progress: 100%|██████████| 100/100 [03:22<00:00,  2.03s/it]\n"
          ]
        },
        {
          "output_type": "stream",
          "name": "stdout",
          "text": [
            "Player 1 RandomPlayer symbol 0 win percentage: 56.00000000000001%\n",
            "Player 2 QLearningPlayer symbol 1 win percentage: 44.0%\n"
          ]
        },
        {
          "output_type": "stream",
          "name": "stderr",
          "text": [
            "Testing Progress: 100%|██████████| 50/50 [00:01<00:00, 49.77it/s]\n"
          ]
        },
        {
          "output_type": "stream",
          "name": "stdout",
          "text": [
            "Player 1 RandomPlayer symbol 0 win percentage: 88.0%\n",
            "Player 2 QLearningPlayer symbol 1 win percentage: 12.0%\n"
          ]
        },
        {
          "output_type": "stream",
          "name": "stderr",
          "text": [
            "Training Progress: 100%|██████████| 100/100 [00:10<00:00,  9.10it/s]\n"
          ]
        },
        {
          "output_type": "stream",
          "name": "stdout",
          "text": [
            "Player 1 CleverRandomPlayer symbol 0 win percentage: 89.0%\n",
            "Player 2 QLearningPlayer symbol 1 win percentage: 11.0%\n"
          ]
        },
        {
          "output_type": "stream",
          "name": "stderr",
          "text": [
            "Testing Progress: 100%|██████████| 50/50 [00:00<00:00, 143.11it/s]\n"
          ]
        },
        {
          "output_type": "stream",
          "name": "stdout",
          "text": [
            "Player 1 CleverRandomPlayer symbol 0 win percentage: 84.0%\n",
            "Player 2 QLearningPlayer symbol 1 win percentage: 16.0%\n"
          ]
        },
        {
          "output_type": "stream",
          "name": "stderr",
          "text": [
            "Training Progress: 100%|██████████| 100/100 [00:02<00:00, 43.23it/s]\n"
          ]
        },
        {
          "output_type": "stream",
          "name": "stdout",
          "text": [
            "Player 1 MinimaxPlayer symbol 0 win percentage: 97.0%\n",
            "Player 2 QLearningPlayer symbol 1 win percentage: 3.0%\n"
          ]
        },
        {
          "output_type": "stream",
          "name": "stderr",
          "text": [
            "Testing Progress: 100%|██████████| 50/50 [00:00<00:00, 57.72it/s]\n"
          ]
        },
        {
          "output_type": "stream",
          "name": "stdout",
          "text": [
            "Player 1 MinimaxPlayer symbol 0 win percentage: 94.0%\n",
            "Player 2 QLearningPlayer symbol 1 win percentage: 6.0%\n"
          ]
        },
        {
          "output_type": "stream",
          "name": "stderr",
          "text": [
            "Training Progress: 100%|██████████| 100/100 [00:05<00:00, 17.81it/s]\n"
          ]
        },
        {
          "output_type": "stream",
          "name": "stdout",
          "text": [
            "Player 1 MonteCarloPlayer symbol 0 win percentage: 94.0%\n",
            "Player 2 QLearningPlayer symbol 1 win percentage: 6.0%\n"
          ]
        },
        {
          "output_type": "stream",
          "name": "stderr",
          "text": [
            "Testing Progress: 100%|██████████| 50/50 [00:04<00:00, 10.09it/s]\n"
          ]
        },
        {
          "output_type": "stream",
          "name": "stdout",
          "text": [
            "Player 1 MonteCarloPlayer symbol 0 win percentage: 98.0%\n",
            "Player 2 QLearningPlayer symbol 1 win percentage: 2.0%\n"
          ]
        },
        {
          "output_type": "display_data",
          "data": {
            "text/plain": [
              "<Figure size 1400x600 with 1 Axes>"
            ],
            "image/png": "[encoded data removed]"
          },
          "metadata": {}
        },
        {
          "output_type": "display_data",
          "data": {
            "text/plain": [
              "<Figure size 640x480 with 0 Axes>"
            ]
          },
          "metadata": {}
        },
        {
          "output_type": "display_data",
          "data": {
            "text/plain": [
              "<Figure size 1000x600 with 1 Axes>"
            ],
            "image/png": "[encoded data removed]"
          },
          "metadata": {}
        },
        {
          "output_type": "display_data",
          "data": {
            "text/plain": [
              "<Figure size 640x480 with 0 Axes>"
            ]
          },
          "metadata": {}
        },
        {
          "output_type": "display_data",
          "data": {
            "text/plain": [
              "<Figure size 1000x600 with 1 Axes>"
            ],
            "image/png": "[encoded data removed]"
          },
          "metadata": {}
        },
        {
          "output_type": "display_data",
          "data": {
            "text/plain": [
              "<Figure size 640x480 with 0 Axes>"
            ]
          },
          "metadata": {}
        }
      ]
    }
  ]
}